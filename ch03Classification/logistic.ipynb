{
 "cells": [
  {
   "cell_type": "markdown",
   "id": "fdb1b0c2-72e0-4451-a081-0d1fe26a4999",
   "metadata": {
    "jp-MarkdownHeadingCollapsed": true,
    "tags": []
   },
   "source": [
    "# Mnist data"
   ]
  },
  {
   "cell_type": "code",
   "execution_count": 1,
   "id": "d90199da-9069-44cc-9692-275c3c9bfd32",
   "metadata": {},
   "outputs": [],
   "source": [
    "import numpy as np\n",
    "import os\n",
    "\n",
    "# to make this notebook's output stable across runs\n",
    "np.random.seed(42)\n",
    "\n",
    "# To plot pretty figures\n",
    "%matplotlib inline\n",
    "import matplotlib as mpl\n",
    "import matplotlib.pyplot as plt\n",
    "mpl.rc('axes', labelsize=14)\n",
    "mpl.rc('xtick', labelsize=12)\n",
    "mpl.rc('ytick', labelsize=12)\n",
    "\n",
    "# Where to save the figures\n",
    "PROJECT_ROOT_DIR = \".\"\n",
    "CHAPTER_ID = \"classification\"\n",
    "IMAGES_PATH = os.path.join(PROJECT_ROOT_DIR, \"images\", CHAPTER_ID)\n",
    "os.makedirs(IMAGES_PATH, exist_ok=True)\n",
    "\n",
    "def save_fig(fig_id, tight_layout=True, fig_extension=\"png\", resolution=300):\n",
    "    path = os.path.join(IMAGES_PATH, fig_id + \".\" + fig_extension)\n",
    "    print(\"Saving figure\", fig_id)\n",
    "    if tight_layout:\n",
    "        plt.tight_layout()\n",
    "    plt.savefig(path, format=fig_extension, dpi=resolution)"
   ]
  },
  {
   "cell_type": "code",
   "execution_count": 2,
   "id": "652ec186-c038-4887-9de6-664db887446f",
   "metadata": {},
   "outputs": [],
   "source": [
    "%config Completer.use_jedi = False"
   ]
  },
  {
   "cell_type": "code",
   "execution_count": 3,
   "id": "12863352-d087-49a7-b9b5-ee397739a254",
   "metadata": {},
   "outputs": [
    {
     "data": {
      "text/plain": [
       "dict_keys(['data', 'target', 'frame', 'categories', 'feature_names', 'target_names', 'DESCR', 'details', 'url'])"
      ]
     },
     "execution_count": 3,
     "metadata": {},
     "output_type": "execute_result"
    }
   ],
   "source": [
    "from sklearn.datasets import fetch_openml\n",
    "mnist = fetch_openml('mnist_784',version=1,as_frame=False)\n",
    "mnist.keys()"
   ]
  },
  {
   "cell_type": "code",
   "execution_count": 4,
   "id": "acaa6a9e-cbf6-4076-9083-3f7f323c92fa",
   "metadata": {},
   "outputs": [
    {
     "data": {
      "text/plain": [
       "(70000, 784)"
      ]
     },
     "execution_count": 4,
     "metadata": {},
     "output_type": "execute_result"
    }
   ],
   "source": [
    "X, y = mnist[\"data\"], mnist[\"target\"]\n",
    "X.shape"
   ]
  },
  {
   "cell_type": "code",
   "execution_count": 5,
   "id": "d8045e86-9871-42db-9265-cf8b8037f15b",
   "metadata": {},
   "outputs": [
    {
     "data": {
      "image/png": "[encoded data removed]",
      "text/plain": [
       "<Figure size 432x288 with 1 Axes>"
      ]
     },
     "metadata": {
      "needs_background": "light"
     },
     "output_type": "display_data"
    }
   ],
   "source": [
    "some_dig1 = X[0]\n",
    "# some_dig1_img = np.reshape(some_dig1,(28,28)) \n",
    "# or\n",
    "some_dig1_img = some_dig1.reshape(28, 28)\n",
    "plt.imshow(some_dig1_img,cmap='binary')\n",
    "plt.axis(\"off\")\n",
    "plt.title(y[0])\n",
    "plt.show()"
   ]
  },
  {
   "cell_type": "code",
   "execution_count": 6,
   "id": "fb2d00e7-b42d-416e-8e97-759c2e5512e0",
   "metadata": {},
   "outputs": [
    {
     "data": {
      "text/plain": [
       "numpy.uint8"
      ]
     },
     "execution_count": 6,
     "metadata": {},
     "output_type": "execute_result"
    }
   ],
   "source": [
    "# type(y[0]) #string (str)\n",
    "y = y.astype(np.uint8)\n",
    "type(y[0])"
   ]
  },
  {
   "cell_type": "code",
   "execution_count": 7,
   "id": "f8648642-435f-41b0-9756-1a1a235c135c",
   "metadata": {},
   "outputs": [
    {
     "data": {
      "text/plain": [
       "(5, 784)"
      ]
     },
     "execution_count": 7,
     "metadata": {},
     "output_type": "execute_result"
    }
   ],
   "source": [
    "np.zeros((5,28*28)).shape"
   ]
  },
  {
   "cell_type": "code",
   "execution_count": 8,
   "id": "ff98f486-66d1-48a3-b257-fbb2a7e4e207",
   "metadata": {},
   "outputs": [],
   "source": [
    "def plot_digits(instances, images_per_row=10,**options):\n",
    "    size = 28\n",
    "    img_per_row = min(len(instances),images_per_row)\n",
    "    n_rows = (len(instances)-1)//img_per_row+1\n",
    "    # append empty images\n",
    "    n_empty = n_rows * img_per_row - len(instances)\n",
    "    padded_instances = np.concatenate([instances,np.zeros((n_empty,size*size))])\n",
    "    \n",
    "    #reshaping into 28×28 images:\n",
    "    image_grid = padded_instances.reshape((n_rows,img_per_row,size,size))\n",
    "    big_image = image_grid.transpose(0, 2, 1, 3).reshape(n_rows * size,\n",
    "                                                         images_per_row * size)\n",
    "    print(image_grid.shape)\n",
    "    plt.imshow(big_image, cmap =\"binary\", **options)\n",
    "    plt.axis(\"off\")\n",
    "    return big_image"
   ]
  },
  {
   "cell_type": "code",
   "execution_count": 9,
   "id": "cb086ba7-2e29-45ae-97ae-9fb46f347de9",
   "metadata": {},
   "outputs": [
    {
     "name": "stdout",
     "output_type": "stream",
     "text": [
      "(2, 10, 28, 28)\n"
     ]
    },
    {
     "data": {
      "text/plain": [
       "(56, 280)"
      ]
     },
     "execution_count": 9,
     "metadata": {},
     "output_type": "execute_result"
    },
    {
     "data": {
      "image/png": "[encoded data removed]",
      "text/plain": [
       "<Figure size 432x288 with 1 Axes>"
      ]
     },
     "metadata": {
      "needs_background": "light"
     },
     "output_type": "display_data"
    }
   ],
   "source": [
    "t = plot_digits(X[:15])\n",
    "t.shape"
   ]
  },
  {
   "cell_type": "code",
   "execution_count": 10,
   "id": "7b974856-058f-4553-876d-56a28da42598",
   "metadata": {},
   "outputs": [],
   "source": [
    "X_train, X_test, y_train, y_test = X[:60000], X[60000:], y[:60000], y[60000:]"
   ]
  },
  {
   "cell_type": "markdown",
   "id": "84444fc9-bd70-4b79-b288-e74a41c7fd0f",
   "metadata": {},
   "source": [
    "# Training a Binary Classifier"
   ]
  },
  {
   "cell_type": "code",
   "execution_count": 11,
   "id": "a4a4f3fe-bcdb-4327-87cb-81182a8128e4",
   "metadata": {},
   "outputs": [],
   "source": [
    "y_train_5 = (y_train == 5)\n",
    "y_test_5 = (y_test == 5)"
   ]
  },
  {
   "cell_type": "code",
   "execution_count": 12,
   "id": "eb26566c-e2c1-4f2b-a543-f8b4ff5b6bf6",
   "metadata": {},
   "outputs": [
    {
     "data": {
      "text/plain": [
       "array([ True, False, False, ...,  True, False, False])"
      ]
     },
     "execution_count": 12,
     "metadata": {},
     "output_type": "execute_result"
    }
   ],
   "source": [
    "y_train_5"
   ]
  },
  {
   "cell_type": "code",
   "execution_count": 13,
   "id": "37c836b2-584a-49cc-87a3-bec26e0a2aa4",
   "metadata": {},
   "outputs": [
    {
     "data": {
      "text/plain": [
       "SGDClassifier(random_state=42)"
      ]
     },
     "execution_count": 13,
     "metadata": {},
     "output_type": "execute_result"
    }
   ],
   "source": [
    "from sklearn.linear_model import SGDClassifier\n",
    "\n",
    "sgd_clf = SGDClassifier(max_iter=1000, tol=1e-3, random_state=42)\n",
    "sgd_clf.fit(X_train, y_train_5)"
   ]
  },
  {
   "cell_type": "code",
   "execution_count": 14,
   "id": "4e5aa03c-c576-4fa1-ba3b-b1673bd5d9cb",
   "metadata": {},
   "outputs": [
    {
     "data": {
      "text/plain": [
       "array([ True])"
      ]
     },
     "execution_count": 14,
     "metadata": {},
     "output_type": "execute_result"
    }
   ],
   "source": [
    "sgd_clf.predict([some_dig1]) #predict if 5 or not"
   ]
  },
  {
   "cell_type": "code",
   "execution_count": 15,
   "id": "cd885d08-21aa-416b-9ae8-f1e800c9a3e6",
   "metadata": {},
   "outputs": [],
   "source": [
    "from sklearn.model_selection import cross_val_score\n",
    "sgd_score = cross_val_score(sgd_clf,X_train,y_train_5,cv=3,scoring=\"accuracy\")"
   ]
  },
  {
   "cell_type": "code",
   "execution_count": 16,
   "id": "16dcf943-3d8d-4ee2-b9b9-450ff0f682e1",
   "metadata": {},
   "outputs": [
    {
     "data": {
      "text/plain": [
       "array([0.97485896, 0.97997449, 0.98      ])"
      ]
     },
     "execution_count": 16,
     "metadata": {},
     "output_type": "execute_result"
    }
   ],
   "source": [
    "scores = np.sqrt(sgd_score)\n",
    "scores"
   ]
  },
  {
   "cell_type": "code",
   "execution_count": 17,
   "id": "802812b4-de27-4c6f-b31a-5f74085b48e9",
   "metadata": {},
   "outputs": [
    {
     "data": {
      "text/plain": [
       "0.9782778178740966"
      ]
     },
     "execution_count": 17,
     "metadata": {},
     "output_type": "execute_result"
    }
   ],
   "source": [
    "scores.mean()"
   ]
  },
  {
   "cell_type": "code",
   "execution_count": 18,
   "id": "f65a5351-2ee9-491f-a671-384b7bc5bbc1",
   "metadata": {},
   "outputs": [
    {
     "data": {
      "text/plain": [
       "0.0024175170794063974"
      ]
     },
     "execution_count": 18,
     "metadata": {},
     "output_type": "execute_result"
    }
   ],
   "source": [
    "scores.std()"
   ]
  },
  {
   "cell_type": "markdown",
   "id": "6f1e02b0-7ac4-47a1-ae89-225447b5ebcd",
   "metadata": {},
   "source": [
    "## Accuracy is not preferred. Why? Below is the answer"
   ]
  },
  {
   "cell_type": "code",
   "execution_count": 19,
   "id": "b993d55b-fed8-4961-959a-e35e37cec1e2",
   "metadata": {},
   "outputs": [],
   "source": [
    "from sklearn.base import BaseEstimator\n",
    "# this output 0 of size X\n",
    "class Never5Classifier(BaseEstimator):\n",
    "    def fit(self, X, y=None):\n",
    "        pass\n",
    "    def predict(self, X):\n",
    "        return np.zeros((len(X), 1), dtype=bool)"
   ]
  },
  {
   "cell_type": "code",
   "execution_count": 20,
   "id": "d3d5323d-4bdd-495c-a311-610e92c5856f",
   "metadata": {},
   "outputs": [
    {
     "data": {
      "text/plain": [
       "array([0.91125, 0.90855, 0.90915])"
      ]
     },
     "execution_count": 20,
     "metadata": {},
     "output_type": "execute_result"
    }
   ],
   "source": [
    "never_5_clf = Never5Classifier()\n",
    "cross_val_score(never_5_clf, X_train, y_train_5, cv=3, scoring=\"accuracy\")"
   ]
  },
  {
   "cell_type": "markdown",
   "id": "fc52a874-8359-4296-88e4-bfef442c218a",
   "metadata": {},
   "source": [
    "# Using Confusion matrix"
   ]
  },
  {
   "cell_type": "code",
   "execution_count": 21,
   "id": "ee7bb5cd-a191-4b84-b55f-d2128662c666",
   "metadata": {},
   "outputs": [],
   "source": [
    "from sklearn.metrics import confusion_matrix"
   ]
  },
  {
   "cell_type": "code",
   "execution_count": 22,
   "id": "0ea466e8-0b60-4656-8b3d-82937c45b885",
   "metadata": {},
   "outputs": [
    {
     "data": {
      "text/plain": [
       "array([ True, False, False, ...,  True, False, False])"
      ]
     },
     "execution_count": 22,
     "metadata": {},
     "output_type": "execute_result"
    }
   ],
   "source": [
    "y_train_5"
   ]
  },
  {
   "cell_type": "code",
   "execution_count": 23,
   "id": "3e4f75de-3c57-4043-a262-4541d50afddf",
   "metadata": {},
   "outputs": [
    {
     "data": {
      "text/plain": [
       "array([[54579,     0],\n",
       "       [    0,  5421]], dtype=int64)"
      ]
     },
     "execution_count": 23,
     "metadata": {},
     "output_type": "execute_result"
    }
   ],
   "source": [
    "y_train_perfect_predictions = y_train_5  # pretend we reached perfection\n",
    "confusion_matrix(y_train_5, y_train_perfect_predictions)"
   ]
  },
  {
   "cell_type": "code",
   "execution_count": 24,
   "id": "aba52dd2-e32e-4ae1-b414-9ed8a0b722a4",
   "metadata": {},
   "outputs": [
    {
     "data": {
      "text/plain": [
       "5421"
      ]
     },
     "execution_count": 24,
     "metadata": {},
     "output_type": "execute_result"
    }
   ],
   "source": [
    "np.sum(y_train_perfect_predictions) # num of 5"
   ]
  },
  {
   "cell_type": "code",
   "execution_count": 25,
   "id": "c615bd89-3a74-444b-bd30-5ae15f4052d0",
   "metadata": {},
   "outputs": [
    {
     "data": {
      "text/plain": [
       "<AxesSubplot:>"
      ]
     },
     "execution_count": 25,
     "metadata": {},
     "output_type": "execute_result"
    },
    {
     "data": {
      "image/png": "[encoded data removed]",
      "text/plain": [
       "<Figure size 432x288 with 2 Axes>"
      ]
     },
     "metadata": {
      "needs_background": "light"
     },
     "output_type": "display_data"
    }
   ],
   "source": [
    "import seaborn as sns\n",
    "\n",
    "y_train_perfect_predictions = y_train_5  # pretend we reached perfection\n",
    "sns.heatmap(confusion_matrix(y_train_5, y_train_perfect_predictions),\n",
    "                             annot=True,xticklabels=[\"Not 5\",5],yticklabels=(\"Not 5\",5))"
   ]
  },
  {
   "cell_type": "code",
   "execution_count": 26,
   "id": "6c915cc9-ce7f-4668-889f-3c4e25216320",
   "metadata": {},
   "outputs": [],
   "source": [
    "from sklearn.model_selection import cross_val_predict\n",
    "y_train_pred = cross_val_predict(sgd_clf, X_train, y_train_5, cv=3)"
   ]
  },
  {
   "cell_type": "code",
   "execution_count": 27,
   "id": "70eb1494-f263-4f42-b08c-8290fc0e55d2",
   "metadata": {},
   "outputs": [
    {
     "data": {
      "text/plain": [
       "array([[53892,   687],\n",
       "       [ 1891,  3530]], dtype=int64)"
      ]
     },
     "execution_count": 27,
     "metadata": {},
     "output_type": "execute_result"
    }
   ],
   "source": [
    "confusion_matrix(y_train_5, y_train_pred)"
   ]
  },
  {
   "cell_type": "code",
   "execution_count": 28,
   "id": "981862ff-7132-42b3-8951-a479b4f6f9f7",
   "metadata": {},
   "outputs": [
    {
     "data": {
      "text/plain": [
       "<AxesSubplot:>"
      ]
     },
     "execution_count": 28,
     "metadata": {},
     "output_type": "execute_result"
    },
    {
     "data": {
      "image/png": "[encoded data removed]",
      "text/plain": [
       "<Figure size 432x288 with 2 Axes>"
      ]
     },
     "metadata": {
      "needs_background": "light"
     },
     "output_type": "display_data"
    }
   ],
   "source": [
    "sns.heatmap(confusion_matrix(y_train_5, y_train_pred),\n",
    "            annot=True,xticklabels=[\"Not 5\",5],yticklabels=(\"Not 5\",5))"
   ]
  },
  {
   "cell_type": "markdown",
   "id": "427746ef-6420-40d4-991d-da71e80bf992",
   "metadata": {},
   "source": [
    "* Precision = TP/(TP+F<u>P</u>)<br>\n",
    "* Recall = TP/(TP+F<u>N</u>)  for cancer diagnosis (should be more as FN must be less )"
   ]
  },
  {
   "cell_type": "code",
   "execution_count": 29,
   "id": "79f14d37-4402-4c1f-9d46-2e30e156790f",
   "metadata": {},
   "outputs": [
    {
     "data": {
      "text/plain": [
       "0.8370879772350012"
      ]
     },
     "execution_count": 29,
     "metadata": {},
     "output_type": "execute_result"
    }
   ],
   "source": [
    "from sklearn.metrics import precision_score, recall_score\n",
    "\n",
    "precision_score(y_train_5, y_train_pred)"
   ]
  },
  {
   "cell_type": "code",
   "execution_count": 30,
   "id": "6848315e-dee3-4903-b695-41a7a57050ec",
   "metadata": {},
   "outputs": [
    {
     "data": {
      "text/plain": [
       "0.6511713705958311"
      ]
     },
     "execution_count": 30,
     "metadata": {},
     "output_type": "execute_result"
    }
   ],
   "source": [
    "recall_score(y_train_5, y_train_pred)"
   ]
  },
  {
   "cell_type": "markdown",
   "id": "211886a2-db5a-4304-aefe-035b9677c9f0",
   "metadata": {},
   "source": [
    "# Precision/Recall Trade-off"
   ]
  },
  {
   "cell_type": "code",
   "execution_count": 37,
   "id": "a30b4f18-bb30-476c-be61-e69fb552b755",
   "metadata": {},
   "outputs": [
    {
     "data": {
      "text/plain": [
       "array([2164.22030239])"
      ]
     },
     "execution_count": 37,
     "metadata": {},
     "output_type": "execute_result"
    }
   ],
   "source": [
    "y_scores = sgd_clf.decision_function([some_dig1])\n",
    "y_scores"
   ]
  },
  {
   "cell_type": "code",
   "execution_count": 39,
   "id": "ee699fc3-2173-4103-8620-94bc64930899",
   "metadata": {},
   "outputs": [
    {
     "data": {
      "text/plain": [
       "array([ True])"
      ]
     },
     "execution_count": 39,
     "metadata": {},
     "output_type": "execute_result"
    }
   ],
   "source": [
    "threshold = 0\n",
    "y_some_digit_pred = (y_scores > threshold)\n",
    "y_some_digit_pred # V.V.Very High Precision"
   ]
  },
  {
   "cell_type": "code",
   "execution_count": 40,
   "id": "1caa9790-7df9-47d1-9fce-7a06330fb4e6",
   "metadata": {},
   "outputs": [
    {
     "data": {
      "text/plain": [
       "array([False])"
      ]
     },
     "execution_count": 40,
     "metadata": {},
     "output_type": "execute_result"
    }
   ],
   "source": [
    "threshold = 8000\n",
    "y_some_digit_pred = (y_scores > threshold)\n",
    "y_some_digit_pred # V.V.Very High Recall\n",
    "y_some_digit_pred"
   ]
  },
  {
   "cell_type": "code",
   "execution_count": 44,
   "id": "53683df3-6052-460a-899a-14effb6ffd5a",
   "metadata": {},
   "outputs": [],
   "source": [
    "y_scores = cross_val_predict(sgd_clf, X_train, y_train_5, cv=3,\n",
    "                             method=\"decision_function\")"
   ]
  },
  {
   "cell_type": "code",
   "execution_count": 45,
   "id": "9b62395e-fba3-4f88-bca9-b372e8d78116",
   "metadata": {},
   "outputs": [
    {
     "data": {
      "text/plain": [
       "array([  1200.93051237, -26883.79202424, -33072.03475406, ...,\n",
       "        13272.12718981,  -7258.47203373, -16877.50840447])"
      ]
     },
     "execution_count": 45,
     "metadata": {},
     "output_type": "execute_result"
    }
   ],
   "source": [
    "y_scores"
   ]
  },
  {
   "cell_type": "code",
   "execution_count": 46,
   "id": "dc357430-5e99-416d-9eff-b9c9e9552df4",
   "metadata": {},
   "outputs": [],
   "source": [
    "from sklearn.metrics import precision_recall_curve\n",
    "\n",
    "precisions, recalls, thresholds = precision_recall_curve(y_train_5, y_scores)"
   ]
  },
  {
   "cell_type": "code",
   "execution_count": 48,
   "id": "2aaa1212-727f-4af9-b690-3e96982dd700",
   "metadata": {},
   "outputs": [
    {
     "data": {
      "text/plain": [
       "array([0.09040123, 0.09038606, 0.09038757, ..., 1.        , 1.        ,\n",
       "       1.        ])"
      ]
     },
     "execution_count": 48,
     "metadata": {},
     "output_type": "execute_result"
    }
   ],
   "source": [
    "precisions"
   ]
  },
  {
   "cell_type": "code",
   "execution_count": 49,
   "id": "bc7344bf-2da7-4c33-9d24-52f187f3dee3",
   "metadata": {},
   "outputs": [
    {
     "data": {
      "text/plain": [
       "array([-106527.45300471, -105763.22240074, -105406.2965229 , ...,\n",
       "         38871.26391927,   42216.05562787,   49441.43765905])"
      ]
     },
     "execution_count": 49,
     "metadata": {},
     "output_type": "execute_result"
    }
   ],
   "source": [
    "thresholds"
   ]
  },
  {
   "cell_type": "code",
   "execution_count": 53,
   "id": "adc97f8d-555e-492d-a257-dd3efb94a1d1",
   "metadata": {},
   "outputs": [
    {
     "data": {
      "text/plain": [
       "(-50000.0, 50000.0, 0.0, 1.0)"
      ]
     },
     "execution_count": 53,
     "metadata": {},
     "output_type": "execute_result"
    },
    {
     "data": {
      "image/png": "[encoded data removed]",
      "text/plain": [
       "<Figure size 432x288 with 1 Axes>"
      ]
     },
     "metadata": {
      "needs_background": "light"
     },
     "output_type": "display_data"
    }
   ],
   "source": [
    "plt.plot(thresholds, precisions[:-1],\"b--\",label=\"Precision\")\n",
    "plt.legend(loc=\"center right\", fontsize=16) # Not shown in the book\n",
    "plt.xlabel(\"Threshold\", fontsize=16)        # Not shown\n",
    "plt.grid(True)                              # Not shown\n",
    "plt.axis([-50000, 50000, 0, 1])             # Not shown"
   ]
  },
  {
   "cell_type": "code",
   "execution_count": 54,
   "id": "f451efbe-aac9-477e-b9a2-b4d046a7bb76",
   "metadata": {},
   "outputs": [],
   "source": [
    "def plot_precision_recall_vs_threshold(precisions, recalls, thresholds):\n",
    "    plt.plot(thresholds, precisions[:-1], \"b--\", label=\"Precision\", linewidth=2)\n",
    "    plt.plot(thresholds, recalls[:-1], \"g-\", label=\"Recall\", linewidth=2)\n",
    "    plt.legend(loc=\"center right\", fontsize=16) \n",
    "    plt.xlabel(\"Threshold\", fontsize=16)        \n",
    "    plt.grid(True)                              \n",
    "    plt.axis([-50000, 50000, 0, 1])             "
   ]
  },
  {
   "cell_type": "code",
   "execution_count": 89,
   "id": "89c5fe2d-e9ec-4956-b5e2-b691fef23ba6",
   "metadata": {},
   "outputs": [
    {
     "name": "stdout",
     "output_type": "stream",
     "text": [
      "Saving figure precision_recall_vs_threshold_plot\n"
     ]
    },
    {
     "data": {
      "image/png": "[encoded data removed]",
      "text/plain": [
       "<Figure size 576x288 with 1 Axes>"
      ]
     },
     "metadata": {
      "needs_background": "light"
     },
     "output_type": "display_data"
    }
   ],
   "source": [
    "plt.figure(figsize=(8, 4))\n",
    "plot_precision_recall_vs_threshold(precisions, recalls, thresholds)\n",
    "\n",
    "recall_90_precision = recalls[np.argmax(precisions >= 0.9)] # max recall when precision was 0.9\n",
    "plt.plot([-50000,threshold_90_precision],[recall_90_precision,recall_90_precision],\"r:\")\n",
    "plt.plot([threshold_90_precision],[recall_90_precision],\"b*\")\n",
    "\n",
    "threshold_90_precision = thresholds[np.argmax(precisions >= 0.90)]\n",
    "plt.plot([threshold_90_precision, threshold_90_precision], [0., 0.9], \"r:\") #[(x1,x2),(y1,y2)]\n",
    "plt.plot([-50000, threshold_90_precision], [0.9, 0.9], \"y:\")\n",
    "plt.plot([threshold_90_precision], [0.9], \"ro\")\n",
    "\n",
    "save_fig(\"precision_recall_vs_threshold_plot\")                                              # Not shown\n",
    "plt.show()"
   ]
  },
  {
   "cell_type": "code",
   "execution_count": 125,
   "id": "0d83c7ea-f1d5-4e09-9930-1e606e8b6e76",
   "metadata": {},
   "outputs": [
    {
     "data": {
      "text/plain": [
       "3370.0194991439557"
      ]
     },
     "execution_count": 125,
     "metadata": {},
     "output_type": "execute_result"
    }
   ],
   "source": [
    "threshold_90_precision"
   ]
  },
  {
   "cell_type": "code",
   "execution_count": 107,
   "id": "6bba713a-3411-48e8-b819-aa74b12dcf42",
   "metadata": {},
   "outputs": [
    {
     "data": {
      "image/png": "[encoded data removed]",
      "text/plain": [
       "<Figure size 576x432 with 1 Axes>"
      ]
     },
     "metadata": {
      "needs_background": "light"
     },
     "output_type": "display_data"
    }
   ],
   "source": [
    "def plot_precision_vs_recall(precisions, recalls):\n",
    "    plt.plot(recalls, precisions, \"b-\", linewidth=2)\n",
    "    plt.xlabel(\"Recall\", fontsize=16)\n",
    "    plt.ylabel(\"Precision\", fontsize=16)\n",
    "    plt.axis([0, 1, 0, 1])\n",
    "    plt.grid(True)\n",
    "\n",
    "plt.figure(figsize=(8, 6))\n",
    "plot_precision_vs_recall(precisions, recalls)\n",
    "plt.plot([0.0,recall_90_precision],[0.9,0.9],\"r--\")\n",
    "plt.plot([recall_90_precision,recall_90_precision],[0.0,0.9],\"r:\")\n",
    "plt.plot([recall_90_precision],[0.9],\"g+\",markersize=20)\n",
    "plt.show()"
   ]
  },
  {
   "cell_type": "markdown",
   "id": "6a90b4e2-e5d5-4cdd-bbbc-5f6b9ab445cd",
   "metadata": {},
   "source": [
    "## The ROC curve"
   ]
  },
  {
   "cell_type": "code",
   "execution_count": 108,
   "id": "690d6013-bfec-4506-a1c1-0e5bb5243c5f",
   "metadata": {},
   "outputs": [],
   "source": [
    "from sklearn.metrics import roc_curve\n",
    "\n",
    "fpr, tpr, thresholds = roc_curve(y_train_5, y_scores)"
   ]
  },
  {
   "cell_type": "code",
   "execution_count": 124,
   "id": "0dc305d6-4030-40a5-8cfb-086d3d9a2aba",
   "metadata": {},
   "outputs": [
    {
     "data": {
      "text/plain": [
       "array([  49442.43765905,   49441.43765905,   36801.60697028, ...,\n",
       "       -105763.22240074, -106527.45300471, -146348.56726174])"
      ]
     },
     "execution_count": 124,
     "metadata": {},
     "output_type": "execute_result"
    }
   ],
   "source": [
    "thresholds"
   ]
  },
  {
   "cell_type": "code",
   "execution_count": 114,
   "id": "599342df-7c3a-4b77-a20d-8ada10aef0c6",
   "metadata": {},
   "outputs": [
    {
     "data": {
      "text/plain": [
       "0.4799852425751706"
      ]
     },
     "execution_count": 114,
     "metadata": {},
     "output_type": "execute_result"
    }
   ],
   "source": [
    "recall_90_precision"
   ]
  },
  {
   "cell_type": "code",
   "execution_count": 115,
   "id": "83c313f7-6b15-4777-89b1-b0185c2d443a",
   "metadata": {},
   "outputs": [
    {
     "data": {
      "text/plain": [
       "0.005295076861063779"
      ]
     },
     "execution_count": 115,
     "metadata": {},
     "output_type": "execute_result"
    }
   ],
   "source": [
    "fpr[np.argmax(tpr >= recall_90_precision)]"
   ]
  },
  {
   "cell_type": "code",
   "execution_count": 119,
   "id": "b9e4fd9f-ab27-4430-92e9-8d30092a783a",
   "metadata": {},
   "outputs": [
    {
     "name": "stdout",
     "output_type": "stream",
     "text": [
      "Saving figure roc_curve_plot\n"
     ]
    },
    {
     "data": {
      "image/png": "[encoded data removed]",
      "text/plain": [
       "<Figure size 576x432 with 1 Axes>"
      ]
     },
     "metadata": {
      "needs_background": "light"
     },
     "output_type": "display_data"
    }
   ],
   "source": [
    "def plot_roc_curve(fpr, tpr, label=None):\n",
    "    plt.plot(fpr, tpr, linewidth=2, label=label)\n",
    "    plt.plot([0, 1], [0, 1], 'k--') # dashed diagonal\n",
    "    plt.axis([0, 1, 0, 1])                                    # Not shown in the book\n",
    "    plt.xlabel('False Positive Rate (Fall-Out)', fontsize=16) # Not shown\n",
    "    plt.ylabel('True Positive Rate (Recall)', fontsize=16)    # Not shown\n",
    "    plt.grid(True)                                            # Not shown\n",
    "\n",
    "plt.figure(figsize=(8, 6))                                    # Not shown\n",
    "plot_roc_curve(fpr, tpr)\n",
    "fpr_90 = fpr[np.argmax(tpr >= recall_90_precision)]\n",
    "plt.plot([fpr_90, fpr_90], [0., recall_90_precision], \"r:\")\n",
    "plt.plot([fpr_90], [recall_90_precision], \"ro\")               # Not shown\n",
    "save_fig(\"roc_curve_plot\")\n"
   ]
  },
  {
   "cell_type": "code",
   "execution_count": 135,
   "id": "3f4e8735-032f-4677-a2d8-86e2a21067f4",
   "metadata": {},
   "outputs": [
    {
     "data": {
      "text/plain": [
       "0.005295076861063779"
      ]
     },
     "execution_count": 135,
     "metadata": {},
     "output_type": "execute_result"
    }
   ],
   "source": [
    "fpr_90"
   ]
  },
  {
   "cell_type": "code",
   "execution_count": 126,
   "id": "77ac280c-4968-4dbd-8bd7-741a452e344a",
   "metadata": {},
   "outputs": [
    {
     "data": {
      "text/plain": [
       "0.9604938554008616"
      ]
     },
     "execution_count": 126,
     "metadata": {},
     "output_type": "execute_result"
    }
   ],
   "source": [
    "from sklearn.metrics import roc_auc_score\n",
    "\n",
    "roc_auc_score(y_train_5, y_scores)"
   ]
  },
  {
   "cell_type": "code",
   "execution_count": 128,
   "id": "8aa9e187-765f-43d9-b1fd-cdcbc8f79e0f",
   "metadata": {},
   "outputs": [],
   "source": [
    "from sklearn.ensemble import RandomForestClassifier\n",
    "forest_clf = RandomForestClassifier(n_estimators=100, random_state=42)\n",
    "y_probas_forest = cross_val_predict(forest_clf, X_train, y_train_5, cv=3,\n",
    "                                    method=\"predict_proba\")"
   ]
  },
  {
   "cell_type": "code",
   "execution_count": 129,
   "id": "280918a2-cfa2-46e5-be6a-bb8f8034af78",
   "metadata": {},
   "outputs": [
    {
     "data": {
      "text/plain": [
       "array([[0.11, 0.89],\n",
       "       [0.99, 0.01],\n",
       "       [0.96, 0.04],\n",
       "       ...,\n",
       "       [0.02, 0.98],\n",
       "       [0.92, 0.08],\n",
       "       [0.94, 0.06]])"
      ]
     },
     "execution_count": 129,
     "metadata": {},
     "output_type": "execute_result"
    }
   ],
   "source": [
    "y_probas_forest"
   ]
  },
  {
   "cell_type": "code",
   "execution_count": 130,
   "id": "9f30e494-7872-4f3c-a715-2399c068b152",
   "metadata": {},
   "outputs": [],
   "source": [
    "y_scores_forest = y_probas_forest[:, 1] # score = proba of positive class"
   ]
  },
  {
   "cell_type": "code",
   "execution_count": 134,
   "id": "0509cf55-1cd2-4994-9da0-0181adda17c3",
   "metadata": {},
   "outputs": [
    {
     "name": "stdout",
     "output_type": "stream",
     "text": [
      "Random forest roc_auc: 0.9983436731328145\n"
     ]
    }
   ],
   "source": [
    "print(f'Random forest roc_auc: {roc_auc_score(y_train_5, y_scores_forest)}')"
   ]
  },
  {
   "cell_type": "code",
   "execution_count": null,
   "id": "8b8f4665-a906-47d4-9b46-89edc3992655",
   "metadata": {},
   "outputs": [],
   "source": []
  }
 ],
 "metadata": {
  "kernelspec": {
   "display_name": "Python 3 (ipykernel)",
   "language": "python",
   "name": "python3"
  },
  "language_info": {
   "codemirror_mode": {
    "name": "ipython",
    "version": 3
   },
   "file_extension": ".py",
   "mimetype": "text/x-python",
   "name": "python",
   "nbconvert_exporter": "python",
   "pygments_lexer": "ipython3",
   "version": "3.7.15"
  }
 },
 "nbformat": 4,
 "nbformat_minor": 5
}
