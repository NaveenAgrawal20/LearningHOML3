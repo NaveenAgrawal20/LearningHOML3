{
 "cells": [
  {
   "cell_type": "markdown",
   "id": "4181432b-a14b-4028-aff1-225f331a5b41",
   "metadata": {
    "tags": []
   },
   "source": [
    "# Revision"
   ]
  },
  {
   "cell_type": "markdown",
   "id": "2b13dcf6-51f5-479e-916c-bb2cbf4397b4",
   "metadata": {
    "jp-MarkdownHeadingCollapsed": true,
    "tags": []
   },
   "source": [
    "## 1. Imports and get data"
   ]
  },
  {
   "cell_type": "code",
   "execution_count": 1,
   "id": "998050ad-47e9-4033-bdb1-756d7564bd66",
   "metadata": {},
   "outputs": [],
   "source": [
    "import numpy as np\n",
    "import os\n",
    "import matplotlib as mpl\n",
    "import matplotlib.pyplot as plt\n",
    "mpl.rc('axes', labelsize=14)\n",
    "mpl.rc('xtick', labelsize=12)\n",
    "mpl.rc('ytick', labelsize=12)\n",
    "import pandas as pd\n",
    "# Where to save the figures\n",
    "PROJECT_ROOT_DIR = \".\"\n",
    "CHAPTER_ID = \"end_to_end_project\"\n",
    "IMAGES_PATH = os.path.join(PROJECT_ROOT_DIR, \"images\", CHAPTER_ID)\n",
    "os.makedirs(IMAGES_PATH, exist_ok=True)\n",
    "\n",
    "def save_fig(fig_id, tight_layout=True, fig_extension=\"png\", resolution=300):\n",
    "    path = os.path.join(IMAGES_PATH, fig_id + \".\" + fig_extension)\n",
    "    print(\"Saving figure\", fig_id)\n",
    "    if tight_layout:\n",
    "        plt.tight_layout()\n",
    "    plt.savefig(path, format=fig_extension, dpi=resolution)"
   ]
  },
  {
   "cell_type": "code",
   "execution_count": 2,
   "id": "01c37595-33ae-4e8d-bcde-ef0b6c8d7398",
   "metadata": {},
   "outputs": [
    {
     "data": {
      "text/html": [
       "<div>\n",
       "<style scoped>\n",
       "    .dataframe tbody tr th:only-of-type {\n",
       "        vertical-align: middle;\n",
       "    }\n",
       "\n",
       "    .dataframe tbody tr th {\n",
       "        vertical-align: top;\n",
       "    }\n",
       "\n",
       "    .dataframe thead th {\n",
       "        text-align: right;\n",
       "    }\n",
       "</style>\n",
       "<table border=\"1\" class=\"dataframe\">\n",
       "  <thead>\n",
       "    <tr style=\"text-align: right;\">\n",
       "      <th></th>\n",
       "      <th>longitude</th>\n",
       "      <th>latitude</th>\n",
       "      <th>housing_median_age</th>\n",
       "      <th>total_rooms</th>\n",
       "      <th>total_bedrooms</th>\n",
       "      <th>population</th>\n",
       "      <th>households</th>\n",
       "      <th>median_income</th>\n",
       "      <th>median_house_value</th>\n",
       "      <th>ocean_proximity</th>\n",
       "    </tr>\n",
       "  </thead>\n",
       "  <tbody>\n",
       "    <tr>\n",
       "      <th>0</th>\n",
       "      <td>-122.23</td>\n",
       "      <td>37.88</td>\n",
       "      <td>41.0</td>\n",
       "      <td>880.0</td>\n",
       "      <td>129.0</td>\n",
       "      <td>322.0</td>\n",
       "      <td>126.0</td>\n",
       "      <td>8.3252</td>\n",
       "      <td>452600.0</td>\n",
       "      <td>NEAR BAY</td>\n",
       "    </tr>\n",
       "    <tr>\n",
       "      <th>1</th>\n",
       "      <td>-122.22</td>\n",
       "      <td>37.86</td>\n",
       "      <td>21.0</td>\n",
       "      <td>7099.0</td>\n",
       "      <td>1106.0</td>\n",
       "      <td>2401.0</td>\n",
       "      <td>1138.0</td>\n",
       "      <td>8.3014</td>\n",
       "      <td>358500.0</td>\n",
       "      <td>NEAR BAY</td>\n",
       "    </tr>\n",
       "    <tr>\n",
       "      <th>2</th>\n",
       "      <td>-122.24</td>\n",
       "      <td>37.85</td>\n",
       "      <td>52.0</td>\n",
       "      <td>1467.0</td>\n",
       "      <td>190.0</td>\n",
       "      <td>496.0</td>\n",
       "      <td>177.0</td>\n",
       "      <td>7.2574</td>\n",
       "      <td>352100.0</td>\n",
       "      <td>NEAR BAY</td>\n",
       "    </tr>\n",
       "    <tr>\n",
       "      <th>3</th>\n",
       "      <td>-122.25</td>\n",
       "      <td>37.85</td>\n",
       "      <td>52.0</td>\n",
       "      <td>1274.0</td>\n",
       "      <td>235.0</td>\n",
       "      <td>558.0</td>\n",
       "      <td>219.0</td>\n",
       "      <td>5.6431</td>\n",
       "      <td>341300.0</td>\n",
       "      <td>NEAR BAY</td>\n",
       "    </tr>\n",
       "    <tr>\n",
       "      <th>4</th>\n",
       "      <td>-122.25</td>\n",
       "      <td>37.85</td>\n",
       "      <td>52.0</td>\n",
       "      <td>1627.0</td>\n",
       "      <td>280.0</td>\n",
       "      <td>565.0</td>\n",
       "      <td>259.0</td>\n",
       "      <td>3.8462</td>\n",
       "      <td>342200.0</td>\n",
       "      <td>NEAR BAY</td>\n",
       "    </tr>\n",
       "  </tbody>\n",
       "</table>\n",
       "</div>"
      ],
      "text/plain": [
       "   longitude  latitude  housing_median_age  total_rooms  total_bedrooms  \\\n",
       "0    -122.23     37.88                41.0        880.0           129.0   \n",
       "1    -122.22     37.86                21.0       7099.0          1106.0   \n",
       "2    -122.24     37.85                52.0       1467.0           190.0   \n",
       "3    -122.25     37.85                52.0       1274.0           235.0   \n",
       "4    -122.25     37.85                52.0       1627.0           280.0   \n",
       "\n",
       "   population  households  median_income  median_house_value ocean_proximity  \n",
       "0       322.0       126.0         8.3252            452600.0        NEAR BAY  \n",
       "1      2401.0      1138.0         8.3014            358500.0        NEAR BAY  \n",
       "2       496.0       177.0         7.2574            352100.0        NEAR BAY  \n",
       "3       558.0       219.0         5.6431            341300.0        NEAR BAY  \n",
       "4       565.0       259.0         3.8462            342200.0        NEAR BAY  "
      ]
     },
     "execution_count": 2,
     "metadata": {},
     "output_type": "execute_result"
    }
   ],
   "source": [
    "df = pd.read_csv('../../handson-ml2/datasets/housing/housing.csv')\n",
    "df.head()"
   ]
  },
  {
   "cell_type": "markdown",
   "id": "fe0fab09-ce77-4632-808e-2b260cff9aba",
   "metadata": {
    "jp-MarkdownHeadingCollapsed": true,
    "tags": []
   },
   "source": [
    "## Data"
   ]
  },
  {
   "cell_type": "code",
   "execution_count": 3,
   "id": "88c9a0cd-ba64-471d-abde-054289f6d9e2",
   "metadata": {},
   "outputs": [
    {
     "data": {
      "text/html": [
       "<div>\n",
       "<style scoped>\n",
       "    .dataframe tbody tr th:only-of-type {\n",
       "        vertical-align: middle;\n",
       "    }\n",
       "\n",
       "    .dataframe tbody tr th {\n",
       "        vertical-align: top;\n",
       "    }\n",
       "\n",
       "    .dataframe thead th {\n",
       "        text-align: right;\n",
       "    }\n",
       "</style>\n",
       "<table border=\"1\" class=\"dataframe\">\n",
       "  <thead>\n",
       "    <tr style=\"text-align: right;\">\n",
       "      <th></th>\n",
       "      <th>longitude</th>\n",
       "      <th>latitude</th>\n",
       "      <th>housing_median_age</th>\n",
       "      <th>total_rooms</th>\n",
       "      <th>total_bedrooms</th>\n",
       "      <th>population</th>\n",
       "      <th>households</th>\n",
       "      <th>median_income</th>\n",
       "      <th>median_house_value</th>\n",
       "      <th>ocean_proximity</th>\n",
       "    </tr>\n",
       "  </thead>\n",
       "  <tbody>\n",
       "    <tr>\n",
       "      <th>0</th>\n",
       "      <td>-122.23</td>\n",
       "      <td>37.88</td>\n",
       "      <td>41.0</td>\n",
       "      <td>880.0</td>\n",
       "      <td>129.0</td>\n",
       "      <td>322.0</td>\n",
       "      <td>126.0</td>\n",
       "      <td>8.3252</td>\n",
       "      <td>452600.0</td>\n",
       "      <td>NEAR BAY</td>\n",
       "    </tr>\n",
       "    <tr>\n",
       "      <th>1</th>\n",
       "      <td>-122.22</td>\n",
       "      <td>37.86</td>\n",
       "      <td>21.0</td>\n",
       "      <td>7099.0</td>\n",
       "      <td>1106.0</td>\n",
       "      <td>2401.0</td>\n",
       "      <td>1138.0</td>\n",
       "      <td>8.3014</td>\n",
       "      <td>358500.0</td>\n",
       "      <td>NEAR BAY</td>\n",
       "    </tr>\n",
       "    <tr>\n",
       "      <th>2</th>\n",
       "      <td>-122.24</td>\n",
       "      <td>37.85</td>\n",
       "      <td>52.0</td>\n",
       "      <td>1467.0</td>\n",
       "      <td>190.0</td>\n",
       "      <td>496.0</td>\n",
       "      <td>177.0</td>\n",
       "      <td>7.2574</td>\n",
       "      <td>352100.0</td>\n",
       "      <td>NEAR BAY</td>\n",
       "    </tr>\n",
       "    <tr>\n",
       "      <th>3</th>\n",
       "      <td>-122.25</td>\n",
       "      <td>37.85</td>\n",
       "      <td>52.0</td>\n",
       "      <td>1274.0</td>\n",
       "      <td>235.0</td>\n",
       "      <td>558.0</td>\n",
       "      <td>219.0</td>\n",
       "      <td>5.6431</td>\n",
       "      <td>341300.0</td>\n",
       "      <td>NEAR BAY</td>\n",
       "    </tr>\n",
       "    <tr>\n",
       "      <th>4</th>\n",
       "      <td>-122.25</td>\n",
       "      <td>37.85</td>\n",
       "      <td>52.0</td>\n",
       "      <td>1627.0</td>\n",
       "      <td>280.0</td>\n",
       "      <td>565.0</td>\n",
       "      <td>259.0</td>\n",
       "      <td>3.8462</td>\n",
       "      <td>342200.0</td>\n",
       "      <td>NEAR BAY</td>\n",
       "    </tr>\n",
       "  </tbody>\n",
       "</table>\n",
       "</div>"
      ],
      "text/plain": [
       "   longitude  latitude  housing_median_age  total_rooms  total_bedrooms  \\\n",
       "0    -122.23     37.88                41.0        880.0           129.0   \n",
       "1    -122.22     37.86                21.0       7099.0          1106.0   \n",
       "2    -122.24     37.85                52.0       1467.0           190.0   \n",
       "3    -122.25     37.85                52.0       1274.0           235.0   \n",
       "4    -122.25     37.85                52.0       1627.0           280.0   \n",
       "\n",
       "   population  households  median_income  median_house_value ocean_proximity  \n",
       "0       322.0       126.0         8.3252            452600.0        NEAR BAY  \n",
       "1      2401.0      1138.0         8.3014            358500.0        NEAR BAY  \n",
       "2       496.0       177.0         7.2574            352100.0        NEAR BAY  \n",
       "3       558.0       219.0         5.6431            341300.0        NEAR BAY  \n",
       "4       565.0       259.0         3.8462            342200.0        NEAR BAY  "
      ]
     },
     "execution_count": 3,
     "metadata": {},
     "output_type": "execute_result"
    }
   ],
   "source": [
    "housing = df\n",
    "housing.head()"
   ]
  },
  {
   "cell_type": "markdown",
   "id": "0e6dc431-677d-4795-b461-7f2cfdf2c35a",
   "metadata": {
    "jp-MarkdownHeadingCollapsed": true,
    "tags": []
   },
   "source": [
    "## 2. Stratified Sampling"
   ]
  },
  {
   "cell_type": "code",
   "execution_count": 4,
   "id": "20219452-b87d-47ba-abb9-a2aa2e675686",
   "metadata": {},
   "outputs": [],
   "source": [
    "housing[\"income_cat\"] = pd.cut(housing.median_income,\n",
    "                                bins = [0.,1.5,3.0,4.5,6.,np.inf],\n",
    "                              labels = [1,2,3,4,5])"
   ]
  },
  {
   "cell_type": "code",
   "execution_count": 5,
   "id": "6fd697d7-3369-42a0-b021-363cd890a9d2",
   "metadata": {},
   "outputs": [
    {
     "data": {
      "text/html": [
       "<div>\n",
       "<style scoped>\n",
       "    .dataframe tbody tr th:only-of-type {\n",
       "        vertical-align: middle;\n",
       "    }\n",
       "\n",
       "    .dataframe tbody tr th {\n",
       "        vertical-align: top;\n",
       "    }\n",
       "\n",
       "    .dataframe thead th {\n",
       "        text-align: right;\n",
       "    }\n",
       "</style>\n",
       "<table border=\"1\" class=\"dataframe\">\n",
       "  <thead>\n",
       "    <tr style=\"text-align: right;\">\n",
       "      <th></th>\n",
       "      <th>longitude</th>\n",
       "      <th>latitude</th>\n",
       "      <th>housing_median_age</th>\n",
       "      <th>total_rooms</th>\n",
       "      <th>total_bedrooms</th>\n",
       "      <th>population</th>\n",
       "      <th>households</th>\n",
       "      <th>median_income</th>\n",
       "      <th>median_house_value</th>\n",
       "      <th>ocean_proximity</th>\n",
       "      <th>income_cat</th>\n",
       "    </tr>\n",
       "  </thead>\n",
       "  <tbody>\n",
       "    <tr>\n",
       "      <th>0</th>\n",
       "      <td>-122.23</td>\n",
       "      <td>37.88</td>\n",
       "      <td>41.0</td>\n",
       "      <td>880.0</td>\n",
       "      <td>129.0</td>\n",
       "      <td>322.0</td>\n",
       "      <td>126.0</td>\n",
       "      <td>8.3252</td>\n",
       "      <td>452600.0</td>\n",
       "      <td>NEAR BAY</td>\n",
       "      <td>5</td>\n",
       "    </tr>\n",
       "  </tbody>\n",
       "</table>\n",
       "</div>"
      ],
      "text/plain": [
       "   longitude  latitude  housing_median_age  total_rooms  total_bedrooms  \\\n",
       "0    -122.23     37.88                41.0        880.0           129.0   \n",
       "\n",
       "   population  households  median_income  median_house_value ocean_proximity  \\\n",
       "0       322.0       126.0         8.3252            452600.0        NEAR BAY   \n",
       "\n",
       "  income_cat  \n",
       "0          5  "
      ]
     },
     "execution_count": 5,
     "metadata": {},
     "output_type": "execute_result"
    }
   ],
   "source": [
    "housing.head(1)"
   ]
  },
  {
   "cell_type": "code",
   "execution_count": 6,
   "id": "7cdfee92-7443-43d2-9983-3bf027e6a394",
   "metadata": {},
   "outputs": [],
   "source": [
    "from sklearn.model_selection import StratifiedShuffleSplit\n",
    "split = StratifiedShuffleSplit(n_splits=1, test_size=0.2, random_state=42)"
   ]
  },
  {
   "cell_type": "code",
   "execution_count": 7,
   "id": "9afc4859-ce62-461d-8e3e-3d16ec36a78f",
   "metadata": {},
   "outputs": [],
   "source": [
    "for train_index,test_index in split.split(housing,housing[\"income_cat\"]):\n",
    "    strat_train_set = housing.loc[train_index]\n",
    "    strat_test_set = housing.loc[test_index] "
   ]
  },
  {
   "cell_type": "code",
   "execution_count": 8,
   "id": "6a05ecb6-6f14-44a9-bffe-f9b3ff020359",
   "metadata": {},
   "outputs": [
    {
     "data": {
      "text/html": [
       "<div>\n",
       "<style scoped>\n",
       "    .dataframe tbody tr th:only-of-type {\n",
       "        vertical-align: middle;\n",
       "    }\n",
       "\n",
       "    .dataframe tbody tr th {\n",
       "        vertical-align: top;\n",
       "    }\n",
       "\n",
       "    .dataframe thead th {\n",
       "        text-align: right;\n",
       "    }\n",
       "</style>\n",
       "<table border=\"1\" class=\"dataframe\">\n",
       "  <thead>\n",
       "    <tr style=\"text-align: right;\">\n",
       "      <th></th>\n",
       "      <th>longitude</th>\n",
       "      <th>latitude</th>\n",
       "      <th>housing_median_age</th>\n",
       "      <th>total_rooms</th>\n",
       "      <th>total_bedrooms</th>\n",
       "      <th>population</th>\n",
       "      <th>households</th>\n",
       "      <th>median_income</th>\n",
       "      <th>median_house_value</th>\n",
       "      <th>ocean_proximity</th>\n",
       "      <th>income_cat</th>\n",
       "    </tr>\n",
       "  </thead>\n",
       "  <tbody>\n",
       "    <tr>\n",
       "      <th>17606</th>\n",
       "      <td>-121.89</td>\n",
       "      <td>37.29</td>\n",
       "      <td>38.0</td>\n",
       "      <td>1568.0</td>\n",
       "      <td>351.0</td>\n",
       "      <td>710.0</td>\n",
       "      <td>339.0</td>\n",
       "      <td>2.7042</td>\n",
       "      <td>286600.0</td>\n",
       "      <td>&lt;1H OCEAN</td>\n",
       "      <td>2</td>\n",
       "    </tr>\n",
       "    <tr>\n",
       "      <th>18632</th>\n",
       "      <td>-121.93</td>\n",
       "      <td>37.05</td>\n",
       "      <td>14.0</td>\n",
       "      <td>679.0</td>\n",
       "      <td>108.0</td>\n",
       "      <td>306.0</td>\n",
       "      <td>113.0</td>\n",
       "      <td>6.4214</td>\n",
       "      <td>340600.0</td>\n",
       "      <td>&lt;1H OCEAN</td>\n",
       "      <td>5</td>\n",
       "    </tr>\n",
       "    <tr>\n",
       "      <th>14650</th>\n",
       "      <td>-117.20</td>\n",
       "      <td>32.77</td>\n",
       "      <td>31.0</td>\n",
       "      <td>1952.0</td>\n",
       "      <td>471.0</td>\n",
       "      <td>936.0</td>\n",
       "      <td>462.0</td>\n",
       "      <td>2.8621</td>\n",
       "      <td>196900.0</td>\n",
       "      <td>NEAR OCEAN</td>\n",
       "      <td>2</td>\n",
       "    </tr>\n",
       "    <tr>\n",
       "      <th>3230</th>\n",
       "      <td>-119.61</td>\n",
       "      <td>36.31</td>\n",
       "      <td>25.0</td>\n",
       "      <td>1847.0</td>\n",
       "      <td>371.0</td>\n",
       "      <td>1460.0</td>\n",
       "      <td>353.0</td>\n",
       "      <td>1.8839</td>\n",
       "      <td>46300.0</td>\n",
       "      <td>INLAND</td>\n",
       "      <td>2</td>\n",
       "    </tr>\n",
       "    <tr>\n",
       "      <th>3555</th>\n",
       "      <td>-118.59</td>\n",
       "      <td>34.23</td>\n",
       "      <td>17.0</td>\n",
       "      <td>6592.0</td>\n",
       "      <td>1525.0</td>\n",
       "      <td>4459.0</td>\n",
       "      <td>1463.0</td>\n",
       "      <td>3.0347</td>\n",
       "      <td>254500.0</td>\n",
       "      <td>&lt;1H OCEAN</td>\n",
       "      <td>3</td>\n",
       "    </tr>\n",
       "  </tbody>\n",
       "</table>\n",
       "</div>"
      ],
      "text/plain": [
       "       longitude  latitude  housing_median_age  total_rooms  total_bedrooms  \\\n",
       "17606    -121.89     37.29                38.0       1568.0           351.0   \n",
       "18632    -121.93     37.05                14.0        679.0           108.0   \n",
       "14650    -117.20     32.77                31.0       1952.0           471.0   \n",
       "3230     -119.61     36.31                25.0       1847.0           371.0   \n",
       "3555     -118.59     34.23                17.0       6592.0          1525.0   \n",
       "\n",
       "       population  households  median_income  median_house_value  \\\n",
       "17606       710.0       339.0         2.7042            286600.0   \n",
       "18632       306.0       113.0         6.4214            340600.0   \n",
       "14650       936.0       462.0         2.8621            196900.0   \n",
       "3230       1460.0       353.0         1.8839             46300.0   \n",
       "3555       4459.0      1463.0         3.0347            254500.0   \n",
       "\n",
       "      ocean_proximity income_cat  \n",
       "17606       <1H OCEAN          2  \n",
       "18632       <1H OCEAN          5  \n",
       "14650      NEAR OCEAN          2  \n",
       "3230           INLAND          2  \n",
       "3555        <1H OCEAN          3  "
      ]
     },
     "execution_count": 8,
     "metadata": {},
     "output_type": "execute_result"
    }
   ],
   "source": [
    "strat_train_set.head()"
   ]
  },
  {
   "cell_type": "code",
   "execution_count": 9,
   "id": "4e34b846-ed11-4f9d-afd2-8ba23a4b1afa",
   "metadata": {},
   "outputs": [],
   "source": [
    "for set_ in (strat_train_set, strat_test_set):\n",
    "    set_.drop(\"income_cat\", axis=1, inplace=True)"
   ]
  },
  {
   "cell_type": "code",
   "execution_count": 10,
   "id": "5d9b2078-b78f-4634-a9a5-b4ecf6842136",
   "metadata": {},
   "outputs": [],
   "source": [
    "housing = strat_train_set.copy()"
   ]
  },
  {
   "cell_type": "markdown",
   "id": "5844ae14-4645-407b-ab09-5485f5a5adf9",
   "metadata": {
    "jp-MarkdownHeadingCollapsed": true,
    "tags": []
   },
   "source": [
    "## 3. Discover and Visualize the Data to Gain Insights"
   ]
  },
  {
   "cell_type": "code",
   "execution_count": 11,
   "id": "b7eef7c5-25d9-4aa7-a3f4-c203709a4598",
   "metadata": {},
   "outputs": [],
   "source": [
    "housing[\"rooms_per_household\"] = housing[\"total_rooms\"]/housing[\"households\"]\n",
    "housing[\"bedrooms_per_room\"] = housing[\"total_bedrooms\"]/housing[\"total_rooms\"]\n",
    "housing[\"population_per_household\"]=housing[\"population\"]/housing[\"households\"]"
   ]
  },
  {
   "cell_type": "code",
   "execution_count": 12,
   "id": "586cb291-2af1-40ce-8003-e9faf4b68473",
   "metadata": {},
   "outputs": [
    {
     "data": {
      "text/plain": [
       "median_house_value          1.000000\n",
       "median_income               0.687160\n",
       "rooms_per_household         0.146285\n",
       "total_rooms                 0.135097\n",
       "housing_median_age          0.114110\n",
       "households                  0.064506\n",
       "total_bedrooms              0.047689\n",
       "population_per_household   -0.021985\n",
       "population                 -0.026920\n",
       "longitude                  -0.047432\n",
       "latitude                   -0.142724\n",
       "bedrooms_per_room          -0.259984\n",
       "Name: median_house_value, dtype: float64"
      ]
     },
     "execution_count": 12,
     "metadata": {},
     "output_type": "execute_result"
    }
   ],
   "source": [
    "corr_matrix = housing.corr()\n",
    "corr_matrix[\"median_house_value\"].sort_values(ascending=False)"
   ]
  },
  {
   "cell_type": "markdown",
   "id": "2bd9386c-ce3e-4ff0-8d96-3fa961fc8417",
   "metadata": {
    "tags": []
   },
   "source": [
    "## 4. Data Preparation <br> Directly going to use combinations (Step 3) in Pipelines"
   ]
  },
  {
   "cell_type": "markdown",
   "id": "7462179c-be9c-401c-bacb-997485e86f83",
   "metadata": {
    "jp-MarkdownHeadingCollapsed": true,
    "tags": []
   },
   "source": [
    "#### Getting Data Back"
   ]
  },
  {
   "cell_type": "code",
   "execution_count": 13,
   "id": "f61a4bde-bfcd-464d-8fae-0d24ad967a51",
   "metadata": {},
   "outputs": [],
   "source": [
    "housing = strat_train_set.drop(\"median_house_value\", axis=1) # drop labels for training set\n",
    "housing_labels = strat_train_set[\"median_house_value\"].copy()"
   ]
  },
  {
   "cell_type": "markdown",
   "id": "31328968-b98f-4696-a707-5e5a192a0ddb",
   "metadata": {
    "jp-MarkdownHeadingCollapsed": true,
    "tags": []
   },
   "source": [
    "### a. Custom Tranformer"
   ]
  },
  {
   "cell_type": "code",
   "execution_count": 14,
   "id": "8b22e05a-82e4-49c5-bd30-9a941c78d5ca",
   "metadata": {},
   "outputs": [],
   "source": [
    "col_names = \"total_rooms\", \"total_bedrooms\", \"population\", \"households\"\n",
    "rooms_ix, bedrooms_ix, population_ix, households_ix = [housing.columns.get_loc(name)\n",
    "                                                       for name in col_names]"
   ]
  },
  {
   "cell_type": "code",
   "execution_count": 15,
   "id": "354f39c0-dcfc-4c38-940f-f902e11322a2",
   "metadata": {},
   "outputs": [],
   "source": [
    "from sklearn.base import BaseEstimator,TransformerMixin\n",
    "\n",
    "class CombinedAttributesAdder(BaseEstimator,TransformerMixin):\n",
    "    def __init__(self,add_bedrooms_per_room = True):\n",
    "        self.add_bedrooms_per_room = add_bedrooms_per_room\n",
    "    def fit(self,X,y=None):\n",
    "        return self\n",
    "    def transform(self, X):\n",
    "        rooms_per_household = X[:,rooms_ix]/X[:,households_ix]\n",
    "        population_per_household = X[:, population_ix] / X[:, households_ix]\n",
    "        if self.add_bedrooms_per_room:\n",
    "            bedrooms_per_room = X[:,bedrooms_ix] / X[:,rooms_ix]\n",
    "            return np.c_[X,rooms_per_household, population_per_household,\n",
    "                        bedrooms_per_room]\n",
    "        else:\n",
    "            return np.c_[X, rooms_per_household, population_per_household]"
   ]
  },
  {
   "cell_type": "markdown",
   "id": "f1e5904d-ead8-4802-b926-d0348c5b25d0",
   "metadata": {
    "jp-MarkdownHeadingCollapsed": true,
    "tags": []
   },
   "source": [
    "### b. Handling Categorical Data"
   ]
  },
  {
   "cell_type": "code",
   "execution_count": 16,
   "id": "448cc180-a1ac-42b0-a271-b906a6287333",
   "metadata": {},
   "outputs": [
    {
     "data": {
      "text/html": [
       "<div>\n",
       "<style scoped>\n",
       "    .dataframe tbody tr th:only-of-type {\n",
       "        vertical-align: middle;\n",
       "    }\n",
       "\n",
       "    .dataframe tbody tr th {\n",
       "        vertical-align: top;\n",
       "    }\n",
       "\n",
       "    .dataframe thead th {\n",
       "        text-align: right;\n",
       "    }\n",
       "</style>\n",
       "<table border=\"1\" class=\"dataframe\">\n",
       "  <thead>\n",
       "    <tr style=\"text-align: right;\">\n",
       "      <th></th>\n",
       "      <th>ocean_proximity</th>\n",
       "    </tr>\n",
       "  </thead>\n",
       "  <tbody>\n",
       "    <tr>\n",
       "      <th>17606</th>\n",
       "      <td>&lt;1H OCEAN</td>\n",
       "    </tr>\n",
       "    <tr>\n",
       "      <th>18632</th>\n",
       "      <td>&lt;1H OCEAN</td>\n",
       "    </tr>\n",
       "    <tr>\n",
       "      <th>14650</th>\n",
       "      <td>NEAR OCEAN</td>\n",
       "    </tr>\n",
       "    <tr>\n",
       "      <th>3230</th>\n",
       "      <td>INLAND</td>\n",
       "    </tr>\n",
       "    <tr>\n",
       "      <th>3555</th>\n",
       "      <td>&lt;1H OCEAN</td>\n",
       "    </tr>\n",
       "    <tr>\n",
       "      <th>19480</th>\n",
       "      <td>INLAND</td>\n",
       "    </tr>\n",
       "    <tr>\n",
       "      <th>8879</th>\n",
       "      <td>&lt;1H OCEAN</td>\n",
       "    </tr>\n",
       "    <tr>\n",
       "      <th>13685</th>\n",
       "      <td>INLAND</td>\n",
       "    </tr>\n",
       "    <tr>\n",
       "      <th>4937</th>\n",
       "      <td>&lt;1H OCEAN</td>\n",
       "    </tr>\n",
       "    <tr>\n",
       "      <th>4861</th>\n",
       "      <td>&lt;1H OCEAN</td>\n",
       "    </tr>\n",
       "  </tbody>\n",
       "</table>\n",
       "</div>"
      ],
      "text/plain": [
       "      ocean_proximity\n",
       "17606       <1H OCEAN\n",
       "18632       <1H OCEAN\n",
       "14650      NEAR OCEAN\n",
       "3230           INLAND\n",
       "3555        <1H OCEAN\n",
       "19480          INLAND\n",
       "8879        <1H OCEAN\n",
       "13685          INLAND\n",
       "4937        <1H OCEAN\n",
       "4861        <1H OCEAN"
      ]
     },
     "execution_count": 16,
     "metadata": {},
     "output_type": "execute_result"
    }
   ],
   "source": [
    "housing_cat = housing[[\"ocean_proximity\"]]\n",
    "housing_cat.head(10)"
   ]
  },
  {
   "cell_type": "code",
   "execution_count": 17,
   "id": "a2f47841-bd1d-43f0-9f6e-58e99b8768e8",
   "metadata": {},
   "outputs": [
    {
     "data": {
      "text/plain": [
       "array([[1., 0., 0., 0., 0.],\n",
       "       [1., 0., 0., 0., 0.],\n",
       "       [0., 0., 0., 0., 1.],\n",
       "       ...,\n",
       "       [0., 1., 0., 0., 0.],\n",
       "       [1., 0., 0., 0., 0.],\n",
       "       [0., 0., 0., 1., 0.]])"
      ]
     },
     "execution_count": 17,
     "metadata": {},
     "output_type": "execute_result"
    }
   ],
   "source": [
    "from sklearn.preprocessing import OneHotEncoder\n",
    "\n",
    "cat_encoder = OneHotEncoder(sparse=False)\n",
    "housing_cat_1hot = cat_encoder.fit_transform(housing_cat)\n",
    "housing_cat_1hot"
   ]
  },
  {
   "cell_type": "markdown",
   "id": "aba94741-1be4-46c4-8010-567560c6e0c3",
   "metadata": {
    "jp-MarkdownHeadingCollapsed": true,
    "tags": []
   },
   "source": [
    "### c. Missing Data"
   ]
  },
  {
   "cell_type": "code",
   "execution_count": 18,
   "id": "5247f1c8-3d2c-4a55-981b-391dc135cbbc",
   "metadata": {},
   "outputs": [
    {
     "data": {
      "text/html": [
       "<div>\n",
       "<style scoped>\n",
       "    .dataframe tbody tr th:only-of-type {\n",
       "        vertical-align: middle;\n",
       "    }\n",
       "\n",
       "    .dataframe tbody tr th {\n",
       "        vertical-align: top;\n",
       "    }\n",
       "\n",
       "    .dataframe thead th {\n",
       "        text-align: right;\n",
       "    }\n",
       "</style>\n",
       "<table border=\"1\" class=\"dataframe\">\n",
       "  <thead>\n",
       "    <tr style=\"text-align: right;\">\n",
       "      <th></th>\n",
       "      <th>longitude</th>\n",
       "      <th>latitude</th>\n",
       "      <th>housing_median_age</th>\n",
       "      <th>total_rooms</th>\n",
       "      <th>total_bedrooms</th>\n",
       "      <th>population</th>\n",
       "      <th>households</th>\n",
       "      <th>median_income</th>\n",
       "    </tr>\n",
       "  </thead>\n",
       "  <tbody>\n",
       "    <tr>\n",
       "      <th>17606</th>\n",
       "      <td>-121.89</td>\n",
       "      <td>37.29</td>\n",
       "      <td>38.0</td>\n",
       "      <td>1568.0</td>\n",
       "      <td>351.0</td>\n",
       "      <td>710.0</td>\n",
       "      <td>339.0</td>\n",
       "      <td>2.7042</td>\n",
       "    </tr>\n",
       "    <tr>\n",
       "      <th>18632</th>\n",
       "      <td>-121.93</td>\n",
       "      <td>37.05</td>\n",
       "      <td>14.0</td>\n",
       "      <td>679.0</td>\n",
       "      <td>108.0</td>\n",
       "      <td>306.0</td>\n",
       "      <td>113.0</td>\n",
       "      <td>6.4214</td>\n",
       "    </tr>\n",
       "    <tr>\n",
       "      <th>14650</th>\n",
       "      <td>-117.20</td>\n",
       "      <td>32.77</td>\n",
       "      <td>31.0</td>\n",
       "      <td>1952.0</td>\n",
       "      <td>471.0</td>\n",
       "      <td>936.0</td>\n",
       "      <td>462.0</td>\n",
       "      <td>2.8621</td>\n",
       "    </tr>\n",
       "    <tr>\n",
       "      <th>3230</th>\n",
       "      <td>-119.61</td>\n",
       "      <td>36.31</td>\n",
       "      <td>25.0</td>\n",
       "      <td>1847.0</td>\n",
       "      <td>371.0</td>\n",
       "      <td>1460.0</td>\n",
       "      <td>353.0</td>\n",
       "      <td>1.8839</td>\n",
       "    </tr>\n",
       "    <tr>\n",
       "      <th>3555</th>\n",
       "      <td>-118.59</td>\n",
       "      <td>34.23</td>\n",
       "      <td>17.0</td>\n",
       "      <td>6592.0</td>\n",
       "      <td>1525.0</td>\n",
       "      <td>4459.0</td>\n",
       "      <td>1463.0</td>\n",
       "      <td>3.0347</td>\n",
       "    </tr>\n",
       "  </tbody>\n",
       "</table>\n",
       "</div>"
      ],
      "text/plain": [
       "       longitude  latitude  housing_median_age  total_rooms  total_bedrooms  \\\n",
       "17606    -121.89     37.29                38.0       1568.0           351.0   \n",
       "18632    -121.93     37.05                14.0        679.0           108.0   \n",
       "14650    -117.20     32.77                31.0       1952.0           471.0   \n",
       "3230     -119.61     36.31                25.0       1847.0           371.0   \n",
       "3555     -118.59     34.23                17.0       6592.0          1525.0   \n",
       "\n",
       "       population  households  median_income  \n",
       "17606       710.0       339.0         2.7042  \n",
       "18632       306.0       113.0         6.4214  \n",
       "14650       936.0       462.0         2.8621  \n",
       "3230       1460.0       353.0         1.8839  \n",
       "3555       4459.0      1463.0         3.0347  "
      ]
     },
     "execution_count": 18,
     "metadata": {},
     "output_type": "execute_result"
    }
   ],
   "source": [
    "from sklearn.impute import SimpleImputer\n",
    "\n",
    "housing_num = housing.drop(\"ocean_proximity\",axis=1)\n",
    "housing_num.head()"
   ]
  },
  {
   "cell_type": "markdown",
   "id": "2b06ca18-b6f1-42b3-b8fd-c59405923046",
   "metadata": {
    "tags": []
   },
   "source": [
    "### With Pipeline"
   ]
  },
  {
   "cell_type": "markdown",
   "id": "22809327-0fcd-40ba-8ad9-4d923784d3b6",
   "metadata": {
    "jp-MarkdownHeadingCollapsed": true,
    "tags": []
   },
   "source": [
    "#### a. On numerical data"
   ]
  },
  {
   "cell_type": "code",
   "execution_count": 19,
   "id": "8d5f1319-8e2d-489a-8cec-2fe452e190d0",
   "metadata": {},
   "outputs": [],
   "source": [
    "from sklearn.pipeline import Pipeline\n",
    "from sklearn.preprocessing import StandardScaler\n",
    "\n",
    "num_pipeline = Pipeline([\n",
    "        ('imputer', SimpleImputer(strategy=\"median\")),\n",
    "        ('attribs_adder', CombinedAttributesAdder()),\n",
    "        ('std_scaler', StandardScaler()),\n",
    "    ])\n",
    "\n",
    "# housing_num_tr = num_pipeline.fit_transform(housing_num)"
   ]
  },
  {
   "cell_type": "markdown",
   "id": "718b11d4-43b0-4c60-922d-53b3df99ce62",
   "metadata": {
    "jp-MarkdownHeadingCollapsed": true,
    "tags": []
   },
   "source": [
    "#### b. On categorical Data (Ocean proximity)"
   ]
  },
  {
   "cell_type": "code",
   "execution_count": 20,
   "id": "7dc7fded-0ecc-472e-983c-0981bb53114d",
   "metadata": {},
   "outputs": [],
   "source": [
    "from sklearn.compose import ColumnTransformer\n",
    "\n",
    "num_attribs = list(housing_num)\n",
    "cat_attribs = [\"ocean_proximity\"]\n",
    "\n",
    "full_pipeline = ColumnTransformer([\n",
    "    (\"num\",num_pipeline,num_attribs),\n",
    "    (\"cat\",OneHotEncoder(),cat_attribs)\n",
    "])\n",
    "\n",
    "housing_prepared = full_pipeline.fit_transform(housing)"
   ]
  },
  {
   "cell_type": "code",
   "execution_count": 21,
   "id": "7067e1fe-6a1f-41cd-9ca3-24a5d83103e5",
   "metadata": {},
   "outputs": [
    {
     "data": {
      "text/plain": [
       "array([[-1.15604281,  0.77194962,  0.74333089, ...,  0.        ,\n",
       "         0.        ,  0.        ],\n",
       "       [-1.17602483,  0.6596948 , -1.1653172 , ...,  0.        ,\n",
       "         0.        ,  0.        ],\n",
       "       [ 1.18684903, -1.34218285,  0.18664186, ...,  0.        ,\n",
       "         0.        ,  1.        ],\n",
       "       ...,\n",
       "       [ 1.58648943, -0.72478134, -1.56295222, ...,  0.        ,\n",
       "         0.        ,  0.        ],\n",
       "       [ 0.78221312, -0.85106801,  0.18664186, ...,  0.        ,\n",
       "         0.        ,  0.        ],\n",
       "       [-1.43579109,  0.99645926,  1.85670895, ...,  0.        ,\n",
       "         1.        ,  0.        ]])"
      ]
     },
     "execution_count": 21,
     "metadata": {},
     "output_type": "execute_result"
    }
   ],
   "source": [
    "housing_prepared"
   ]
  },
  {
   "cell_type": "markdown",
   "id": "a8cb5d50-2792-4135-bb34-8cac7dd55d5b",
   "metadata": {
    "jp-MarkdownHeadingCollapsed": true,
    "tags": []
   },
   "source": [
    "## 5. Training"
   ]
  },
  {
   "cell_type": "code",
   "execution_count": 22,
   "id": "2e9b2bdb-f1d9-4d73-82a6-da220f634b55",
   "metadata": {},
   "outputs": [
    {
     "data": {
      "text/plain": [
       "LinearRegression()"
      ]
     },
     "execution_count": 22,
     "metadata": {},
     "output_type": "execute_result"
    }
   ],
   "source": [
    "from sklearn.linear_model import LinearRegression\n",
    "\n",
    "lin_reg = LinearRegression()\n",
    "lin_reg.fit(housing_prepared, housing_labels)"
   ]
  },
  {
   "cell_type": "code",
   "execution_count": 23,
   "id": "ed632cfd-2633-4761-84cf-1e9f2247c3fd",
   "metadata": {},
   "outputs": [
    {
     "name": "stdout",
     "output_type": "stream",
     "text": [
      "Predictions: [210644.60459286 317768.80697211 210956.43331178  59218.98886849\n",
      " 189747.55849879]\n"
     ]
    }
   ],
   "source": [
    "# let's try the full preprocessing pipeline on a few training instances\n",
    "some_data = housing.iloc[:5]\n",
    "some_labels = housing_labels.iloc[:5]\n",
    "some_data_prepared = full_pipeline.transform(some_data)\n",
    "\n",
    "print(\"Predictions:\", lin_reg.predict(some_data_prepared))"
   ]
  },
  {
   "cell_type": "markdown",
   "id": "06a29b53-a7d9-4f94-8cd5-81e13f1df8c4",
   "metadata": {
    "tags": []
   },
   "source": [
    "# 2. Exercise"
   ]
  },
  {
   "cell_type": "code",
   "execution_count": 26,
   "id": "ab9e0da1-423d-4bfc-a670-4d9a24428148",
   "metadata": {},
   "outputs": [
    {
     "name": "stdout",
     "output_type": "stream",
     "text": [
      "Fitting 5 folds for each of 50 candidates, totalling 250 fits\n",
      "[CV] END ..............................C=10.0, kernel=linear; total time=   9.8s\n",
      "[CV] END ..............................C=10.0, kernel=linear; total time=   5.1s\n",
      "[CV] END ..............................C=10.0, kernel=linear; total time=   4.8s\n",
      "[CV] END ..............................C=10.0, kernel=linear; total time=   5.1s\n",
      "[CV] END ..............................C=10.0, kernel=linear; total time=   5.3s\n",
      "[CV] END ..............................C=30.0, kernel=linear; total time=   5.4s\n",
      "[CV] END ..............................C=30.0, kernel=linear; total time=   5.6s\n",
      "[CV] END ..............................C=30.0, kernel=linear; total time=   5.3s\n",
      "[CV] END ..............................C=30.0, kernel=linear; total time=   4.8s\n",
      "[CV] END ..............................C=30.0, kernel=linear; total time=   4.6s\n",
      "[CV] END .............................C=100.0, kernel=linear; total time=   4.6s\n",
      "[CV] END .............................C=100.0, kernel=linear; total time=   4.6s\n",
      "[CV] END .............................C=100.0, kernel=linear; total time=   4.7s\n",
      "[CV] END .............................C=100.0, kernel=linear; total time=   4.7s\n",
      "[CV] END .............................C=100.0, kernel=linear; total time=   4.8s\n",
      "[CV] END .............................C=300.0, kernel=linear; total time=   4.8s\n",
      "[CV] END .............................C=300.0, kernel=linear; total time=   5.1s\n",
      "[CV] END .............................C=300.0, kernel=linear; total time=   4.9s\n",
      "[CV] END .............................C=300.0, kernel=linear; total time=   5.3s\n",
      "[CV] END .............................C=300.0, kernel=linear; total time=   5.0s\n",
      "[CV] END ............................C=1000.0, kernel=linear; total time=   5.5s\n",
      "[CV] END ............................C=1000.0, kernel=linear; total time=   6.1s\n",
      "[CV] END ............................C=1000.0, kernel=linear; total time=   5.3s\n",
      "[CV] END ............................C=1000.0, kernel=linear; total time=   5.2s\n",
      "[CV] END ............................C=1000.0, kernel=linear; total time=   7.0s\n",
      "[CV] END ............................C=3000.0, kernel=linear; total time=   7.0s\n",
      "[CV] END ............................C=3000.0, kernel=linear; total time=   6.0s\n",
      "[CV] END ............................C=3000.0, kernel=linear; total time=   6.6s\n",
      "[CV] END ............................C=3000.0, kernel=linear; total time=   6.3s\n",
      "[CV] END ............................C=3000.0, kernel=linear; total time=   6.6s\n",
      "[CV] END ...........................C=10000.0, kernel=linear; total time=   8.0s\n",
      "[CV] END ...........................C=10000.0, kernel=linear; total time=   6.7s\n",
      "[CV] END ...........................C=10000.0, kernel=linear; total time=   7.2s\n",
      "[CV] END ...........................C=10000.0, kernel=linear; total time=   7.7s\n",
      "[CV] END ...........................C=10000.0, kernel=linear; total time=   6.6s\n",
      "[CV] END ...........................C=30000.0, kernel=linear; total time=  11.0s\n",
      "[CV] END ...........................C=30000.0, kernel=linear; total time=  11.1s\n",
      "[CV] END ...........................C=30000.0, kernel=linear; total time=  11.9s\n",
      "[CV] END ...........................C=30000.0, kernel=linear; total time=  11.1s\n",
      "[CV] END ...........................C=30000.0, kernel=linear; total time=  10.3s\n",
      "[CV] END ......................C=1.0, gamma=0.01, kernel=rbf; total time=  10.0s\n",
      "[CV] END ......................C=1.0, gamma=0.01, kernel=rbf; total time=  10.0s\n",
      "[CV] END ......................C=1.0, gamma=0.01, kernel=rbf; total time=  10.1s\n",
      "[CV] END ......................C=1.0, gamma=0.01, kernel=rbf; total time=  10.2s\n",
      "[CV] END ......................C=1.0, gamma=0.01, kernel=rbf; total time=  10.1s\n",
      "[CV] END ......................C=1.0, gamma=0.03, kernel=rbf; total time=  10.1s\n",
      "[CV] END ......................C=1.0, gamma=0.03, kernel=rbf; total time=  10.0s\n",
      "[CV] END ......................C=1.0, gamma=0.03, kernel=rbf; total time=   9.8s\n",
      "[CV] END ......................C=1.0, gamma=0.03, kernel=rbf; total time=   9.9s\n",
      "[CV] END ......................C=1.0, gamma=0.03, kernel=rbf; total time=   9.9s\n",
      "[CV] END .......................C=1.0, gamma=0.1, kernel=rbf; total time=  10.0s\n",
      "[CV] END .......................C=1.0, gamma=0.1, kernel=rbf; total time=  10.2s\n",
      "[CV] END .......................C=1.0, gamma=0.1, kernel=rbf; total time=   9.9s\n",
      "[CV] END .......................C=1.0, gamma=0.1, kernel=rbf; total time=   9.6s\n",
      "[CV] END .......................C=1.0, gamma=0.1, kernel=rbf; total time=  10.3s\n",
      "[CV] END .......................C=1.0, gamma=0.3, kernel=rbf; total time=   9.5s\n",
      "[CV] END .......................C=1.0, gamma=0.3, kernel=rbf; total time=  10.0s\n",
      "[CV] END .......................C=1.0, gamma=0.3, kernel=rbf; total time=   9.7s\n",
      "[CV] END .......................C=1.0, gamma=0.3, kernel=rbf; total time=   9.8s\n",
      "[CV] END .......................C=1.0, gamma=0.3, kernel=rbf; total time=   9.9s\n",
      "[CV] END .......................C=1.0, gamma=1.0, kernel=rbf; total time=   9.2s\n",
      "[CV] END .......................C=1.0, gamma=1.0, kernel=rbf; total time=   9.4s\n",
      "[CV] END .......................C=1.0, gamma=1.0, kernel=rbf; total time=   9.4s\n",
      "[CV] END .......................C=1.0, gamma=1.0, kernel=rbf; total time=   9.1s\n",
      "[CV] END .......................C=1.0, gamma=1.0, kernel=rbf; total time=   9.2s\n",
      "[CV] END .......................C=1.0, gamma=3.0, kernel=rbf; total time=   9.0s\n",
      "[CV] END .......................C=1.0, gamma=3.0, kernel=rbf; total time=   8.9s\n",
      "[CV] END .......................C=1.0, gamma=3.0, kernel=rbf; total time=   8.9s\n",
      "[CV] END .......................C=1.0, gamma=3.0, kernel=rbf; total time=   9.0s\n",
      "[CV] END .......................C=1.0, gamma=3.0, kernel=rbf; total time=   8.9s\n",
      "[CV] END ......................C=3.0, gamma=0.01, kernel=rbf; total time=  10.0s\n",
      "[CV] END ......................C=3.0, gamma=0.01, kernel=rbf; total time=   9.5s\n",
      "[CV] END ......................C=3.0, gamma=0.01, kernel=rbf; total time=   9.5s\n",
      "[CV] END ......................C=3.0, gamma=0.01, kernel=rbf; total time=   9.5s\n",
      "[CV] END ......................C=3.0, gamma=0.01, kernel=rbf; total time=  10.0s\n",
      "[CV] END ......................C=3.0, gamma=0.03, kernel=rbf; total time=   9.6s\n",
      "[CV] END ......................C=3.0, gamma=0.03, kernel=rbf; total time=   9.5s\n",
      "[CV] END ......................C=3.0, gamma=0.03, kernel=rbf; total time=   9.5s\n",
      "[CV] END ......................C=3.0, gamma=0.03, kernel=rbf; total time=   9.6s\n",
      "[CV] END ......................C=3.0, gamma=0.03, kernel=rbf; total time=   9.6s\n",
      "[CV] END .......................C=3.0, gamma=0.1, kernel=rbf; total time=   9.5s\n",
      "[CV] END .......................C=3.0, gamma=0.1, kernel=rbf; total time=   9.5s\n",
      "[CV] END .......................C=3.0, gamma=0.1, kernel=rbf; total time=   9.5s\n",
      "[CV] END .......................C=3.0, gamma=0.1, kernel=rbf; total time=   9.5s\n",
      "[CV] END .......................C=3.0, gamma=0.1, kernel=rbf; total time=   9.4s\n",
      "[CV] END .......................C=3.0, gamma=0.3, kernel=rbf; total time=   9.2s\n",
      "[CV] END .......................C=3.0, gamma=0.3, kernel=rbf; total time=   9.4s\n",
      "[CV] END .......................C=3.0, gamma=0.3, kernel=rbf; total time=   9.3s\n",
      "[CV] END .......................C=3.0, gamma=0.3, kernel=rbf; total time=   9.2s\n",
      "[CV] END .......................C=3.0, gamma=0.3, kernel=rbf; total time=   9.2s\n",
      "[CV] END .......................C=3.0, gamma=1.0, kernel=rbf; total time=   8.9s\n",
      "[CV] END .......................C=3.0, gamma=1.0, kernel=rbf; total time=   9.1s\n",
      "[CV] END .......................C=3.0, gamma=1.0, kernel=rbf; total time=   8.9s\n",
      "[CV] END .......................C=3.0, gamma=1.0, kernel=rbf; total time=   9.0s\n",
      "[CV] END .......................C=3.0, gamma=1.0, kernel=rbf; total time=   9.0s\n",
      "[CV] END .......................C=3.0, gamma=3.0, kernel=rbf; total time=   8.9s\n",
      "[CV] END .......................C=3.0, gamma=3.0, kernel=rbf; total time=   8.9s\n",
      "[CV] END .......................C=3.0, gamma=3.0, kernel=rbf; total time=   9.3s\n",
      "[CV] END .......................C=3.0, gamma=3.0, kernel=rbf; total time=   9.5s\n",
      "[CV] END .......................C=3.0, gamma=3.0, kernel=rbf; total time=   9.9s\n",
      "[CV] END .....................C=10.0, gamma=0.01, kernel=rbf; total time=  10.3s\n",
      "[CV] END .....................C=10.0, gamma=0.01, kernel=rbf; total time=  10.2s\n",
      "[CV] END .....................C=10.0, gamma=0.01, kernel=rbf; total time=  10.7s\n",
      "[CV] END .....................C=10.0, gamma=0.01, kernel=rbf; total time=  10.1s\n",
      "[CV] END .....................C=10.0, gamma=0.01, kernel=rbf; total time=  10.0s\n",
      "[CV] END .....................C=10.0, gamma=0.03, kernel=rbf; total time=   9.7s\n",
      "[CV] END .....................C=10.0, gamma=0.03, kernel=rbf; total time=  10.1s\n",
      "[CV] END .....................C=10.0, gamma=0.03, kernel=rbf; total time=  10.2s\n",
      "[CV] END .....................C=10.0, gamma=0.03, kernel=rbf; total time=   9.7s\n",
      "[CV] END .....................C=10.0, gamma=0.03, kernel=rbf; total time=   9.8s\n",
      "[CV] END ......................C=10.0, gamma=0.1, kernel=rbf; total time=  11.1s\n",
      "[CV] END ......................C=10.0, gamma=0.1, kernel=rbf; total time=  11.1s\n",
      "[CV] END ......................C=10.0, gamma=0.1, kernel=rbf; total time=  10.7s\n",
      "[CV] END ......................C=10.0, gamma=0.1, kernel=rbf; total time=  10.5s\n",
      "[CV] END ......................C=10.0, gamma=0.1, kernel=rbf; total time=   9.8s\n",
      "[CV] END ......................C=10.0, gamma=0.3, kernel=rbf; total time=  10.4s\n",
      "[CV] END ......................C=10.0, gamma=0.3, kernel=rbf; total time=  10.1s\n",
      "[CV] END ......................C=10.0, gamma=0.3, kernel=rbf; total time=   9.6s\n",
      "[CV] END ......................C=10.0, gamma=0.3, kernel=rbf; total time=  12.3s\n",
      "[CV] END ......................C=10.0, gamma=0.3, kernel=rbf; total time=   9.8s\n",
      "[CV] END ......................C=10.0, gamma=1.0, kernel=rbf; total time=   9.4s\n",
      "[CV] END ......................C=10.0, gamma=1.0, kernel=rbf; total time=   9.5s\n",
      "[CV] END ......................C=10.0, gamma=1.0, kernel=rbf; total time=   9.7s\n",
      "[CV] END ......................C=10.0, gamma=1.0, kernel=rbf; total time=  10.2s\n",
      "[CV] END ......................C=10.0, gamma=1.0, kernel=rbf; total time=  10.5s\n",
      "[CV] END ......................C=10.0, gamma=3.0, kernel=rbf; total time=   9.6s\n",
      "[CV] END ......................C=10.0, gamma=3.0, kernel=rbf; total time=  10.3s\n",
      "[CV] END ......................C=10.0, gamma=3.0, kernel=rbf; total time=   9.6s\n",
      "[CV] END ......................C=10.0, gamma=3.0, kernel=rbf; total time=  12.7s\n",
      "[CV] END ......................C=10.0, gamma=3.0, kernel=rbf; total time=  12.4s\n",
      "[CV] END .....................C=30.0, gamma=0.01, kernel=rbf; total time=  11.0s\n",
      "[CV] END .....................C=30.0, gamma=0.01, kernel=rbf; total time=  12.2s\n",
      "[CV] END .....................C=30.0, gamma=0.01, kernel=rbf; total time=  12.6s\n",
      "[CV] END .....................C=30.0, gamma=0.01, kernel=rbf; total time=  11.7s\n",
      "[CV] END .....................C=30.0, gamma=0.01, kernel=rbf; total time=  12.9s\n",
      "[CV] END .....................C=30.0, gamma=0.03, kernel=rbf; total time=  12.8s\n",
      "[CV] END .....................C=30.0, gamma=0.03, kernel=rbf; total time=  12.5s\n",
      "[CV] END .....................C=30.0, gamma=0.03, kernel=rbf; total time=  11.8s\n",
      "[CV] END .....................C=30.0, gamma=0.03, kernel=rbf; total time=  11.4s\n",
      "[CV] END .....................C=30.0, gamma=0.03, kernel=rbf; total time=  12.3s\n",
      "[CV] END ......................C=30.0, gamma=0.1, kernel=rbf; total time=  10.4s\n",
      "[CV] END ......................C=30.0, gamma=0.1, kernel=rbf; total time=  10.6s\n",
      "[CV] END ......................C=30.0, gamma=0.1, kernel=rbf; total time=  10.1s\n",
      "[CV] END ......................C=30.0, gamma=0.1, kernel=rbf; total time=  10.4s\n",
      "[CV] END ......................C=30.0, gamma=0.1, kernel=rbf; total time=  11.3s\n",
      "[CV] END ......................C=30.0, gamma=0.3, kernel=rbf; total time=  11.4s\n",
      "[CV] END ......................C=30.0, gamma=0.3, kernel=rbf; total time=  12.4s\n",
      "[CV] END ......................C=30.0, gamma=0.3, kernel=rbf; total time=  10.0s\n",
      "[CV] END ......................C=30.0, gamma=0.3, kernel=rbf; total time=  10.9s\n",
      "[CV] END ......................C=30.0, gamma=0.3, kernel=rbf; total time=   9.9s\n",
      "[CV] END ......................C=30.0, gamma=1.0, kernel=rbf; total time=  11.6s\n",
      "[CV] END ......................C=30.0, gamma=1.0, kernel=rbf; total time=  10.1s\n",
      "[CV] END ......................C=30.0, gamma=1.0, kernel=rbf; total time=  11.9s\n",
      "[CV] END ......................C=30.0, gamma=1.0, kernel=rbf; total time=  10.2s\n",
      "[CV] END ......................C=30.0, gamma=1.0, kernel=rbf; total time=   9.7s\n",
      "[CV] END ......................C=30.0, gamma=3.0, kernel=rbf; total time=   9.9s\n",
      "[CV] END ......................C=30.0, gamma=3.0, kernel=rbf; total time=  12.3s\n",
      "[CV] END ......................C=30.0, gamma=3.0, kernel=rbf; total time=  11.5s\n",
      "[CV] END ......................C=30.0, gamma=3.0, kernel=rbf; total time=  10.5s\n",
      "[CV] END ......................C=30.0, gamma=3.0, kernel=rbf; total time=  10.2s\n",
      "[CV] END ....................C=100.0, gamma=0.01, kernel=rbf; total time=   9.7s\n",
      "[CV] END ....................C=100.0, gamma=0.01, kernel=rbf; total time=   9.9s\n",
      "[CV] END ....................C=100.0, gamma=0.01, kernel=rbf; total time=  11.3s\n",
      "[CV] END ....................C=100.0, gamma=0.01, kernel=rbf; total time=  11.6s\n",
      "[CV] END ....................C=100.0, gamma=0.01, kernel=rbf; total time=  13.5s\n",
      "[CV] END ....................C=100.0, gamma=0.03, kernel=rbf; total time=  12.5s\n",
      "[CV] END ....................C=100.0, gamma=0.03, kernel=rbf; total time=  12.1s\n",
      "[CV] END ....................C=100.0, gamma=0.03, kernel=rbf; total time=  13.0s\n",
      "[CV] END ....................C=100.0, gamma=0.03, kernel=rbf; total time=  11.8s\n",
      "[CV] END ....................C=100.0, gamma=0.03, kernel=rbf; total time=  12.1s\n",
      "[CV] END .....................C=100.0, gamma=0.1, kernel=rbf; total time=  10.5s\n",
      "[CV] END .....................C=100.0, gamma=0.1, kernel=rbf; total time=  12.1s\n",
      "[CV] END .....................C=100.0, gamma=0.1, kernel=rbf; total time=  10.4s\n",
      "[CV] END .....................C=100.0, gamma=0.1, kernel=rbf; total time=   9.9s\n",
      "[CV] END .....................C=100.0, gamma=0.1, kernel=rbf; total time=   9.6s\n",
      "[CV] END .....................C=100.0, gamma=0.3, kernel=rbf; total time=  10.0s\n",
      "[CV] END .....................C=100.0, gamma=0.3, kernel=rbf; total time=   9.7s\n",
      "[CV] END .....................C=100.0, gamma=0.3, kernel=rbf; total time=  10.2s\n",
      "[CV] END .....................C=100.0, gamma=0.3, kernel=rbf; total time=  11.4s\n",
      "[CV] END .....................C=100.0, gamma=0.3, kernel=rbf; total time=  10.2s\n",
      "[CV] END .....................C=100.0, gamma=1.0, kernel=rbf; total time=  11.9s\n",
      "[CV] END .....................C=100.0, gamma=1.0, kernel=rbf; total time=   9.6s\n",
      "[CV] END .....................C=100.0, gamma=1.0, kernel=rbf; total time=   9.2s\n",
      "[CV] END .....................C=100.0, gamma=1.0, kernel=rbf; total time=   9.4s\n",
      "[CV] END .....................C=100.0, gamma=1.0, kernel=rbf; total time=   9.4s\n",
      "[CV] END .....................C=100.0, gamma=3.0, kernel=rbf; total time=   9.9s\n",
      "[CV] END .....................C=100.0, gamma=3.0, kernel=rbf; total time=   9.9s\n",
      "[CV] END .....................C=100.0, gamma=3.0, kernel=rbf; total time=   9.5s\n",
      "[CV] END .....................C=100.0, gamma=3.0, kernel=rbf; total time=  10.1s\n",
      "[CV] END .....................C=100.0, gamma=3.0, kernel=rbf; total time=   9.7s\n",
      "[CV] END ....................C=300.0, gamma=0.01, kernel=rbf; total time=   9.9s\n",
      "[CV] END ....................C=300.0, gamma=0.01, kernel=rbf; total time=  10.5s\n",
      "[CV] END ....................C=300.0, gamma=0.01, kernel=rbf; total time=  11.0s\n",
      "[CV] END ....................C=300.0, gamma=0.01, kernel=rbf; total time=   9.7s\n",
      "[CV] END ....................C=300.0, gamma=0.01, kernel=rbf; total time=   9.9s\n",
      "[CV] END ....................C=300.0, gamma=0.03, kernel=rbf; total time=  10.4s\n",
      "[CV] END ....................C=300.0, gamma=0.03, kernel=rbf; total time=  12.2s\n",
      "[CV] END ....................C=300.0, gamma=0.03, kernel=rbf; total time=  10.2s\n",
      "[CV] END ....................C=300.0, gamma=0.03, kernel=rbf; total time=  10.5s\n",
      "[CV] END ....................C=300.0, gamma=0.03, kernel=rbf; total time=  10.2s\n",
      "[CV] END .....................C=300.0, gamma=0.1, kernel=rbf; total time=   9.9s\n",
      "[CV] END .....................C=300.0, gamma=0.1, kernel=rbf; total time=  10.2s\n",
      "[CV] END .....................C=300.0, gamma=0.1, kernel=rbf; total time=  10.5s\n",
      "[CV] END .....................C=300.0, gamma=0.1, kernel=rbf; total time=  10.5s\n",
      "[CV] END .....................C=300.0, gamma=0.1, kernel=rbf; total time=   9.3s\n",
      "[CV] END .....................C=300.0, gamma=0.3, kernel=rbf; total time=  10.7s\n",
      "[CV] END .....................C=300.0, gamma=0.3, kernel=rbf; total time=  10.8s\n",
      "[CV] END .....................C=300.0, gamma=0.3, kernel=rbf; total time=  11.6s\n",
      "[CV] END .....................C=300.0, gamma=0.3, kernel=rbf; total time=  10.1s\n",
      "[CV] END .....................C=300.0, gamma=0.3, kernel=rbf; total time=   9.5s\n",
      "[CV] END .....................C=300.0, gamma=1.0, kernel=rbf; total time=   9.9s\n",
      "[CV] END .....................C=300.0, gamma=1.0, kernel=rbf; total time=  10.9s\n",
      "[CV] END .....................C=300.0, gamma=1.0, kernel=rbf; total time=  11.0s\n",
      "[CV] END .....................C=300.0, gamma=1.0, kernel=rbf; total time=  10.8s\n",
      "[CV] END .....................C=300.0, gamma=1.0, kernel=rbf; total time=  10.8s\n",
      "[CV] END .....................C=300.0, gamma=3.0, kernel=rbf; total time=  11.1s\n",
      "[CV] END .....................C=300.0, gamma=3.0, kernel=rbf; total time=  14.6s\n",
      "[CV] END .....................C=300.0, gamma=3.0, kernel=rbf; total time=  11.8s\n",
      "[CV] END .....................C=300.0, gamma=3.0, kernel=rbf; total time=  12.2s\n",
      "[CV] END .....................C=300.0, gamma=3.0, kernel=rbf; total time=  13.6s\n",
      "[CV] END ...................C=1000.0, gamma=0.01, kernel=rbf; total time=  13.1s\n",
      "[CV] END ...................C=1000.0, gamma=0.01, kernel=rbf; total time=  12.2s\n",
      "[CV] END ...................C=1000.0, gamma=0.01, kernel=rbf; total time=   9.8s\n",
      "[CV] END ...................C=1000.0, gamma=0.01, kernel=rbf; total time=   9.9s\n",
      "[CV] END ...................C=1000.0, gamma=0.01, kernel=rbf; total time=  12.0s\n",
      "[CV] END ...................C=1000.0, gamma=0.03, kernel=rbf; total time=  11.8s\n",
      "[CV] END ...................C=1000.0, gamma=0.03, kernel=rbf; total time=  10.2s\n",
      "[CV] END ...................C=1000.0, gamma=0.03, kernel=rbf; total time=  11.0s\n",
      "[CV] END ...................C=1000.0, gamma=0.03, kernel=rbf; total time=  10.2s\n",
      "[CV] END ...................C=1000.0, gamma=0.03, kernel=rbf; total time=  11.5s\n",
      "[CV] END ....................C=1000.0, gamma=0.1, kernel=rbf; total time=  10.0s\n",
      "[CV] END ....................C=1000.0, gamma=0.1, kernel=rbf; total time=  10.1s\n",
      "[CV] END ....................C=1000.0, gamma=0.1, kernel=rbf; total time=  10.1s\n",
      "[CV] END ....................C=1000.0, gamma=0.1, kernel=rbf; total time=  10.1s\n",
      "[CV] END ....................C=1000.0, gamma=0.1, kernel=rbf; total time=  11.9s\n",
      "[CV] END ....................C=1000.0, gamma=0.3, kernel=rbf; total time=  10.6s\n",
      "[CV] END ....................C=1000.0, gamma=0.3, kernel=rbf; total time=  10.1s\n",
      "[CV] END ....................C=1000.0, gamma=0.3, kernel=rbf; total time=  10.5s\n",
      "[CV] END ....................C=1000.0, gamma=0.3, kernel=rbf; total time=  12.3s\n",
      "[CV] END ....................C=1000.0, gamma=0.3, kernel=rbf; total time=  12.2s\n",
      "[CV] END ....................C=1000.0, gamma=1.0, kernel=rbf; total time=  12.1s\n",
      "[CV] END ....................C=1000.0, gamma=1.0, kernel=rbf; total time=  11.5s\n",
      "[CV] END ....................C=1000.0, gamma=1.0, kernel=rbf; total time=  10.5s\n",
      "[CV] END ....................C=1000.0, gamma=1.0, kernel=rbf; total time=   9.8s\n",
      "[CV] END ....................C=1000.0, gamma=1.0, kernel=rbf; total time=  10.1s\n",
      "[CV] END ....................C=1000.0, gamma=3.0, kernel=rbf; total time=  10.1s\n",
      "[CV] END ....................C=1000.0, gamma=3.0, kernel=rbf; total time=   9.9s\n",
      "[CV] END ....................C=1000.0, gamma=3.0, kernel=rbf; total time=  10.8s\n",
      "[CV] END ....................C=1000.0, gamma=3.0, kernel=rbf; total time=   9.9s\n",
      "[CV] END ....................C=1000.0, gamma=3.0, kernel=rbf; total time=   9.8s\n"
     ]
    },
    {
     "data": {
      "text/plain": [
       "GridSearchCV(cv=5, estimator=SVR(),\n",
       "             param_grid=[{'C': [10.0, 30.0, 100.0, 300.0, 1000.0, 3000.0,\n",
       "                                10000.0, 30000.0],\n",
       "                          'kernel': ['linear']},\n",
       "                         {'C': [1.0, 3.0, 10.0, 30.0, 100.0, 300.0, 1000.0],\n",
       "                          'gamma': [0.01, 0.03, 0.1, 0.3, 1.0, 3.0],\n",
       "                          'kernel': ['rbf']}],\n",
       "             scoring='neg_mean_squared_error', verbose=2)"
      ]
     },
     "execution_count": 26,
     "metadata": {},
     "output_type": "execute_result"
    }
   ],
   "source": [
    "from sklearn.model_selection import GridSearchCV\n",
    "from sklearn.svm import SVR\n",
    "\n",
    "param_grid = [\n",
    "        {'kernel': ['linear'], 'C': [10., 30., 100., 300., 1000., 3000., 10000., 30000.0]},\n",
    "        {'kernel': ['rbf'], 'C': [1.0, 3.0, 10., 30., 100., 300., 1000.0],\n",
    "         'gamma': [0.01, 0.03, 0.1, 0.3, 1.0, 3.0]},\n",
    "    ]\n",
    "\n",
    "svm_reg = SVR()\n",
    "grid_search = GridSearchCV(svm_reg, param_grid, cv=5, scoring='neg_mean_squared_error', verbose=2)\n",
    "grid_search.fit(housing_prepared, housing_labels)"
   ]
  },
  {
   "cell_type": "code",
   "execution_count": 28,
   "id": "33c74ecc-cba2-476c-a5d7-1e6bdda36b6f",
   "metadata": {},
   "outputs": [
    {
     "data": {
      "text/plain": [
       "{'C': 30000.0, 'kernel': 'linear'}"
      ]
     },
     "execution_count": 28,
     "metadata": {},
     "output_type": "execute_result"
    }
   ],
   "source": [
    "grid_search.best_params_"
   ]
  },
  {
   "cell_type": "code",
   "execution_count": 32,
   "id": "054f5e87-11e1-43ed-9a58-12ceef53f683",
   "metadata": {},
   "outputs": [
    {
     "data": {
      "text/plain": [
       "70363.84006602463"
      ]
     },
     "execution_count": 32,
     "metadata": {},
     "output_type": "execute_result"
    }
   ],
   "source": [
    "np.sqrt(-grid_search.best_score_)"
   ]
  },
  {
   "cell_type": "code",
   "execution_count": null,
   "id": "3da3a959-883d-47ad-bb6e-b463ab9d6a5f",
   "metadata": {},
   "outputs": [],
   "source": []
  }
 ],
 "metadata": {
  "kernelspec": {
   "display_name": "Python 3",
   "language": "python",
   "name": "python3"
  },
  "language_info": {
   "codemirror_mode": {
    "name": "ipython",
    "version": 3
   },
   "file_extension": ".py",
   "mimetype": "text/x-python",
   "name": "python",
   "nbconvert_exporter": "python",
   "pygments_lexer": "ipython3",
   "version": "3.6.13"
  }
 },
 "nbformat": 4,
 "nbformat_minor": 5
}
