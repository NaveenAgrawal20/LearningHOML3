{
 "cells": [
  {
   "cell_type": "code",
   "execution_count": 1,
   "metadata": {},
   "outputs": [],
   "source": [
    "import torch\n",
    "from torchvision import datasets, transforms\n",
    "import torch.nn as nn\n",
    "from torch.nn import functional as F\n",
    "\n",
    "import numpy as np\n",
    "import matplotlib.pyplot as plt"
   ]
  },
  {
   "cell_type": "markdown",
   "metadata": {},
   "source": [
    "## Fashion MNIST"
   ]
  },
  {
   "cell_type": "code",
   "execution_count": 2,
   "metadata": {},
   "outputs": [],
   "source": [
    "# defining transformation\n",
    "transform = transforms.Compose([transforms.ToTensor()])\n",
    "\n",
    "# load the training\n",
    "full_train = datasets.FashionMNIST(root='../data', download=True, train=True, transform=transform)"
   ]
  },
  {
   "cell_type": "code",
   "execution_count": 3,
   "metadata": {},
   "outputs": [],
   "source": [
    "full_loader = torch.utils.data.DataLoader(full_train, batch_size=32, shuffle=False)"
   ]
  },
  {
   "cell_type": "markdown",
   "metadata": {},
   "source": [
    "## Calculating Mean and STD Dev for FashionMNIST"
   ]
  },
  {
   "cell_type": "code",
   "execution_count": null,
   "metadata": {},
   "outputs": [
    {
     "data": {
      "text/plain": [
       "torch.Size([32, 1, 28, 28])"
      ]
     },
     "execution_count": 4,
     "metadata": {},
     "output_type": "execute_result"
    }
   ],
   "source": [
    "next(iter(full_loader))[0].shape"
   ]
  },
  {
   "cell_type": "code",
   "execution_count": 5,
   "metadata": {},
   "outputs": [],
   "source": [
    "# sum_pixels = 0.0\n",
    "# sum_squared_pixels = 0.0\n",
    "\n",
    "# for images, _ in full_loader:\n",
    "#     sum_pixels += images.sum()\n",
    "#     sum_squared_pixels += (images ** 2).sum()\n",
    "\n",
    "# # Total number of pixels\n",
    "# total_pixels = len(full_train) * 28 * 28\n",
    "\n",
    "# # Compute mean and std\n",
    "# mean = sum_pixels / total_pixels\n",
    "# std = torch.sqrt((sum_squared_pixels / total_pixels) - mean ** 2)\n",
    "\n",
    "# print('Mean:', mean.item())\n",
    "# print('Std:', std.item())\n",
    "# # Mean: 0.2860404849052429\n",
    "# # Std: 0.35302457213401794"
   ]
  },
  {
   "cell_type": "markdown",
   "metadata": {},
   "source": [
    "## Transform with correct Mean and std_dev"
   ]
  },
  {
   "cell_type": "code",
   "execution_count": 6,
   "metadata": {},
   "outputs": [],
   "source": [
    "# defining transformation\n",
    "mean = 0.286040484905\n",
    "std = 0.3530245721340\n",
    "# transform = transforms.Compose([transforms.ToTensor(), transforms.Normalize((mean,), (std,))])\n",
    "transform = transforms.Compose([transforms.ToTensor()]) # Not normalizing as AE\n",
    "\n",
    "# load the training and test data\n",
    "trainset = datasets.FashionMNIST(root='../data', download=True, train=True, transform=transform)\n",
    "testset = datasets.FashionMNIST(root='../data', download=True, train=False, transform=transform)"
   ]
  },
  {
   "cell_type": "code",
   "execution_count": 7,
   "metadata": {},
   "outputs": [
    {
     "data": {
      "text/plain": [
       "['T-shirt/top',\n",
       " 'Trouser',\n",
       " 'Pullover',\n",
       " 'Dress',\n",
       " 'Coat',\n",
       " 'Sandal',\n",
       " 'Shirt',\n",
       " 'Sneaker',\n",
       " 'Bag',\n",
       " 'Ankle boot']"
      ]
     },
     "execution_count": 7,
     "metadata": {},
     "output_type": "execute_result"
    }
   ],
   "source": [
    "class_names = trainset.classes\n",
    "class_names"
   ]
  },
  {
   "cell_type": "code",
   "execution_count": 8,
   "metadata": {},
   "outputs": [],
   "source": [
    "train_loader = torch.utils.data.DataLoader(trainset, batch_size=32, shuffle=False)\n",
    "valid_loader = torch.utils.data.DataLoader(testset, batch_size=32, shuffle=False)"
   ]
  },
  {
   "cell_type": "markdown",
   "metadata": {},
   "source": [
    "## Visualizing Dataset"
   ]
  },
  {
   "cell_type": "code",
   "execution_count": 9,
   "metadata": {},
   "outputs": [
    {
     "name": "stdout",
     "output_type": "stream",
     "text": [
      "Class name: Ankle boot\n"
     ]
    },
    {
     "data": {
      "image/png": "[encoded data removed]",
      "text/plain": [
       "<Figure size 640x480 with 1 Axes>"
      ]
     },
     "metadata": {},
     "output_type": "display_data"
    }
   ],
   "source": [
    "images, labels = next(iter(train_loader))\n",
    "idx = 0\n",
    "image = images[idx]\n",
    "class_name = class_names[labels[idx].item()]\n",
    "print(f'Class name: {class_name}')\n",
    "plt.imshow(image.numpy().squeeze(), cmap='gray')\n",
    "plt.title(f'Label: {labels[idx].item()}')\n",
    "plt.show()"
   ]
  },
  {
   "cell_type": "code",
   "execution_count": 10,
   "metadata": {},
   "outputs": [
    {
     "name": "stdout",
     "output_type": "stream",
     "text": [
      "cuda\n"
     ]
    }
   ],
   "source": [
    "device = 'cuda' if torch.cuda.is_available() else 'cpu'\n",
    "if device == 'cuda':\n",
    "\ttorch.cuda.manual_seed(42)\n",
    "else:\n",
    "\ttorch.manual_seed(42)\n",
    "    \n",
    "print(device)"
   ]
  },
  {
   "cell_type": "markdown",
   "metadata": {},
   "source": [
    "## Stacked Autoencoder"
   ]
  },
  {
   "cell_type": "code",
   "execution_count": 11,
   "metadata": {},
   "outputs": [],
   "source": [
    "class Encoder(nn.Module):\n",
    "    def __init__(self):\n",
    "        super(Encoder, self).__init__()\n",
    "        self.fc1 = nn.Linear(28 * 28, 100)\n",
    "        self.fc2 = nn.Linear(100, 30)\n",
    "    \n",
    "    def forward(self, x):\n",
    "        x = torch.flatten(x, start_dim=1)  # Flatten all dimensions except batch\n",
    "        x = F.relu(self.fc1(x))\n",
    "        x = F.relu(self.fc2(x))\n",
    "        return x\n",
    "\n",
    "class Decoder(nn.Module):\n",
    "    def __init__(self):\n",
    "        super(Decoder, self).__init__()\n",
    "        self.fc1 = nn.Linear(30, 100)\n",
    "        self.fc2 = nn.Linear(100, 28 * 28)\n",
    "        self.reshape = nn.Unflatten(dim=1, unflattened_size=(1, 28, 28))\n",
    "    \n",
    "    def forward(self, x):\n",
    "        x = F.relu(self.fc1(x))\n",
    "        x = self.fc2(x) \n",
    "        x = self.reshape(x)\n",
    "        return x\n",
    "\n",
    "class StackedAutoEncoder(nn.Module):\n",
    "    def __init__(self):\n",
    "        super(StackedAutoEncoder, self).__init__()\n",
    "        self.encoder = Encoder()\n",
    "        self.decoder = Decoder()\n",
    "        \n",
    "    def forward(self, x, y = None):\n",
    "        x = self.encoder(x)\n",
    "        x = self.decoder(x)\n",
    "        return x\n"
   ]
  },
  {
   "cell_type": "markdown",
   "metadata": {},
   "source": [
    "## Model Initialization"
   ]
  },
  {
   "cell_type": "code",
   "execution_count": 12,
   "metadata": {},
   "outputs": [
    {
     "name": "stdout",
     "output_type": "stream",
     "text": [
      "Total parameters: 163814\n",
      "Trainable parameters: 163814\n",
      "Non-trainable parameters: 0\n"
     ]
    }
   ],
   "source": [
    "stacked_ae = StackedAutoEncoder().to(device=device)\n",
    "total_params = sum(p.numel() for p in stacked_ae.parameters())\n",
    "trainable_params = sum(p.numel() for p in stacked_ae.parameters() if p.requires_grad)\n",
    "non_trainable_params = total_params - trainable_params\n",
    "\n",
    "print(f'Total parameters: {total_params}')\n",
    "print(f'Trainable parameters: {trainable_params}')\n",
    "print(f'Non-trainable parameters: {non_trainable_params}')"
   ]
  },
  {
   "cell_type": "markdown",
   "metadata": {},
   "source": [
    "## Model Summary"
   ]
  },
  {
   "cell_type": "code",
   "execution_count": 13,
   "metadata": {},
   "outputs": [],
   "source": [
    "import torchsummary"
   ]
  },
  {
   "cell_type": "code",
   "execution_count": 14,
   "metadata": {},
   "outputs": [
    {
     "name": "stdout",
     "output_type": "stream",
     "text": [
      "----------------------------------------------------------------\n",
      "        Layer (type)               Output Shape         Param #\n",
      "================================================================\n",
      "            Linear-1                  [-1, 100]          78,500\n",
      "            Linear-2                   [-1, 30]           3,030\n",
      "           Encoder-3                   [-1, 30]               0\n",
      "            Linear-4                  [-1, 100]           3,100\n",
      "            Linear-5                  [-1, 784]          79,184\n",
      "         Unflatten-6            [-1, 1, 28, 28]               0\n",
      "           Decoder-7            [-1, 1, 28, 28]               0\n",
      "================================================================\n",
      "Total params: 163,814\n",
      "Trainable params: 163,814\n",
      "Non-trainable params: 0\n",
      "----------------------------------------------------------------\n",
      "Input size (MB): 0.00\n",
      "Forward/backward pass size (MB): 0.02\n",
      "Params size (MB): 0.62\n",
      "Estimated Total Size (MB): 0.65\n",
      "----------------------------------------------------------------\n"
     ]
    }
   ],
   "source": [
    "torchsummary.summary(stacked_ae, input_size=(1, 28, 28))"
   ]
  },
  {
   "cell_type": "code",
   "execution_count": 15,
   "metadata": {},
   "outputs": [
    {
     "name": "stdout",
     "output_type": "stream",
     "text": [
      "encoder.fc1.weight: 78400 parameters\n",
      "encoder.fc1.bias: 100 parameters\n",
      "encoder.fc2.weight: 3000 parameters\n",
      "encoder.fc2.bias: 30 parameters\n",
      "decoder.fc1.weight: 3000 parameters\n",
      "decoder.fc1.bias: 100 parameters\n",
      "decoder.fc2.weight: 78400 parameters\n",
      "decoder.fc2.bias: 784 parameters\n"
     ]
    }
   ],
   "source": [
    "for name, param in stacked_ae.named_parameters():\n",
    "    if param.requires_grad:\n",
    "        print(f\"{name}: {param.numel()} parameters\")"
   ]
  },
  {
   "cell_type": "markdown",
   "metadata": {},
   "source": [
    "## Loss, Optimizer"
   ]
  },
  {
   "cell_type": "code",
   "execution_count": 16,
   "metadata": {},
   "outputs": [],
   "source": [
    "criterion = nn.MSELoss()\n",
    "optimizer = torch.optim.NAdam(stacked_ae.parameters(), lr = 0.001)"
   ]
  },
  {
   "cell_type": "markdown",
   "metadata": {},
   "source": [
    "## Find good initial Learning Rate"
   ]
  },
  {
   "cell_type": "markdown",
   "metadata": {},
   "source": [
    "### 1. Using `torch_lr_finder`  to Find a Good Learning Rate"
   ]
  },
  {
   "cell_type": "code",
   "execution_count": 17,
   "metadata": {},
   "outputs": [],
   "source": [
    "from torch_lr_finder import LRFinder #!pip install torch-lr-finder"
   ]
  },
  {
   "cell_type": "code",
   "execution_count": 18,
   "metadata": {},
   "outputs": [],
   "source": [
    "del stacked_ae\n",
    "stacked_ae = StackedAutoEncoder().to(device=device)"
   ]
  },
  {
   "cell_type": "code",
   "execution_count": 19,
   "metadata": {},
   "outputs": [],
   "source": [
    "from torch.utils.data import Dataset\n",
    "\n",
    "class AutoencoderDataset(Dataset):\n",
    "    \"\"\"\n",
    "    A wrapper that takes a base Dataset returning (x, label)\n",
    "    and instead returns (x, x) LRFinder that expects (input, target).\n",
    "    \"\"\"\n",
    "    def __init__(self, base_dataset):\n",
    "        self.base_dataset = base_dataset\n",
    "    \n",
    "    def __len__(self):\n",
    "        return len(self.base_dataset)\n",
    "    \n",
    "    def __getitem__(self, idx):\n",
    "        x, _ = self.base_dataset[idx]\n",
    "        # in case of autoencoder, target == x, so\n",
    "        return x, x\n",
    "\n",
    "train_lrfinder_dataset = AutoencoderDataset(trainset)\n",
    "train_lrfinder_loader = torch.utils.data.DataLoader(\n",
    "    train_lrfinder_dataset,\n",
    "    batch_size = 32,\n",
    "    shuffle=False\n",
    ")"
   ]
  },
  {
   "cell_type": "code",
   "execution_count": 20,
   "metadata": {},
   "outputs": [],
   "source": [
    "lr_finder = LRFinder(stacked_ae, optimizer, criterion, device=device)"
   ]
  },
  {
   "cell_type": "code",
   "execution_count": 21,
   "metadata": {},
   "outputs": [
    {
     "data": {
      "application/vnd.jupyter.widget-view+json": {
       "model_id": "19a20d83600d4f76bd281fb25deeada8",
       "version_major": 2,
       "version_minor": 0
      },
      "text/plain": [
       "  0%|          | 0/1000 [00:00<?, ?it/s]"
      ]
     },
     "metadata": {},
     "output_type": "display_data"
    },
    {
     "name": "stdout",
     "output_type": "stream",
     "text": [
      "Learning rate search finished. See the graph with {finder_name}.plot()\n"
     ]
    }
   ],
   "source": [
    "lr_finder.range_test(\n",
    "    train_lrfinder_loader,\n",
    "    end_lr=0.1,   \n",
    "    num_iter=1000,   \n",
    "    step_mode=\"exp\"\n",
    ")"
   ]
  },
  {
   "cell_type": "code",
   "execution_count": 22,
   "metadata": {},
   "outputs": [
    {
     "name": "stdout",
     "output_type": "stream",
     "text": [
      "LR suggestion: steepest gradient\n",
      "Suggested LR: 3.36E-03\n"
     ]
    },
    {
     "data": {
      "image/png": "[encoded data removed]",
      "text/plain": [
       "<Figure size 640x480 with 1 Axes>"
      ]
     },
     "metadata": {},
     "output_type": "display_data"
    }
   ],
   "source": [
    "lr_finder.plot()\n",
    "lr_finder.reset()"
   ]
  },
  {
   "cell_type": "markdown",
   "metadata": {},
   "source": [
    "## Model Training"
   ]
  },
  {
   "cell_type": "code",
   "execution_count": 1,
   "metadata": {},
   "outputs": [],
   "source": [
    "BATCH_SIZE = 4096\n",
    "num_epochs = 50\n",
    "import torch\n",
    "from torchvision import datasets, transforms\n",
    "import torch.nn as nn\n",
    "from torch.nn import functional as F\n",
    "\n",
    "\n",
    "from tqdm import tqdm\n",
    "import numpy as np\n",
    "import matplotlib.pyplot as plt\n",
    "# defining transformation\n",
    "mean = 0.286040484905\n",
    "std = 0.3530245721340"
   ]
  },
  {
   "cell_type": "code",
   "execution_count": 2,
   "metadata": {},
   "outputs": [],
   "source": [
    "# defining transformation\n",
    "transform = transforms.Compose([transforms.ToTensor()]) # Not normalizing as AE\n",
    "\n",
    "# load the training and test data\n",
    "trainset = datasets.FashionMNIST(root='../data', download=True, train=True, transform=transform)\n",
    "testset = datasets.FashionMNIST(root='../data', download=True, train=False, transform=transform)\n",
    "\n",
    "# Use only the top 5000 samples from the training set\n",
    "trainset = torch.utils.data.Subset(trainset, range(55000))\n",
    "testset = torch.utils.data.Subset(trainset, range(5000, ))\n",
    "\n",
    "train_loader = torch.utils.data.DataLoader(trainset, batch_size=BATCH_SIZE, shuffle=False)\n",
    "valid_loader = torch.utils.data.DataLoader(testset, batch_size=BATCH_SIZE, shuffle=False)"
   ]
  },
  {
   "cell_type": "code",
   "execution_count": 3,
   "metadata": {},
   "outputs": [
    {
     "name": "stdout",
     "output_type": "stream",
     "text": [
      "cuda\n"
     ]
    }
   ],
   "source": [
    "class Encoder(nn.Module):\n",
    "    def __init__(self):\n",
    "        super(Encoder, self).__init__()\n",
    "        self.fc1 = nn.Linear(28 * 28, 100)\n",
    "        self.fc2 = nn.Linear(100, 30)\n",
    "    \n",
    "    def forward(self, x):\n",
    "        x = torch.flatten(x, start_dim=1)  # Flatten all dimensions except batch\n",
    "        x = F.relu(self.fc1(x))\n",
    "        x = F.relu(self.fc2(x))\n",
    "        return x\n",
    "\n",
    "class Decoder(nn.Module):\n",
    "    def __init__(self):\n",
    "        super(Decoder, self).__init__()\n",
    "        self.fc1 = nn.Linear(30, 100)\n",
    "        self.fc2 = nn.Linear(100, 28 * 28)\n",
    "        self.reshape = nn.Unflatten(dim=1, unflattened_size=(1, 28, 28))\n",
    "    \n",
    "    def forward(self, x):\n",
    "        x = F.relu(self.fc1(x))\n",
    "        x = self.fc2(x) \n",
    "        x = self.reshape(x)\n",
    "        return x\n",
    "\n",
    "class StackedAutoEncoder(nn.Module):\n",
    "    def __init__(self):\n",
    "        super(StackedAutoEncoder, self).__init__()\n",
    "        self.encoder = Encoder()\n",
    "        self.decoder = Decoder()\n",
    "        \n",
    "    def forward(self, x, y = None):\n",
    "        x = self.encoder(x)\n",
    "        x = self.decoder(x)\n",
    "        return x\n",
    "\n",
    "\n",
    "\n",
    "device = 'cuda' if torch.cuda.is_available() else 'cpu'\n",
    "if device == 'cuda':\n",
    "\ttorch.cuda.manual_seed(42)\n",
    "else:\n",
    "\ttorch.manual_seed(42)\n",
    "    \n",
    "print(device)"
   ]
  },
  {
   "cell_type": "code",
   "execution_count": 4,
   "metadata": {},
   "outputs": [
    {
     "name": "stdout",
     "output_type": "stream",
     "text": [
      "13\n",
      "650\n"
     ]
    }
   ],
   "source": [
    "steps_per_epoch = len(trainset)//BATCH_SIZE\n",
    "print(steps_per_epoch)\n",
    "total_steps = num_epochs * steps_per_epoch\n",
    "print(total_steps)"
   ]
  },
  {
   "cell_type": "code",
   "execution_count": 5,
   "metadata": {},
   "outputs": [
    {
     "data": {
      "text/plain": [
       "0.00336"
      ]
     },
     "execution_count": 5,
     "metadata": {},
     "output_type": "execute_result"
    }
   ],
   "source": [
    "3.36E-03"
   ]
  },
  {
   "cell_type": "code",
   "execution_count": 6,
   "metadata": {},
   "outputs": [],
   "source": [
    "stacked_ae = StackedAutoEncoder().to(device=device)\n",
    "criterion = nn.MSELoss()\n",
    "optimizer = torch.optim.NAdam(stacked_ae.parameters(), lr = 0.015)\n",
    "T_max = 30\n",
    "scheduler = torch.optim.lr_scheduler.CosineAnnealingLR(optimizer, T_max=T_max, eta_min=2e-3)"
   ]
  },
  {
   "cell_type": "code",
   "execution_count": 7,
   "metadata": {},
   "outputs": [
    {
     "name": "stderr",
     "output_type": "stream",
     "text": [
      "Epoch 1/50:   0%|          | 0/14 [00:00<?, ?it/s]"
     ]
    },
    {
     "name": "stderr",
     "output_type": "stream",
     "text": [
      "Epoch 1/50: 100%|██████████| 14/14 [00:12<00:00,  1.16it/s, Batch=13/14, Batch loss=0.06924]\n",
      "                                                         \r"
     ]
    },
    {
     "name": "stdout",
     "output_type": "stream",
     "text": [
      "Epoch 1/50, Train Loss: 0.1255, Valid Loss: 0.0734, lr: [0.014964392319893776]|0.014964392319893776\n"
     ]
    },
    {
     "name": "stderr",
     "output_type": "stream",
     "text": [
      "Epoch 2/50: 100%|██████████| 14/14 [00:07<00:00,  1.80it/s, Batch=13/14, Batch loss=0.07040]\n",
      "                                                         \r"
     ]
    },
    {
     "name": "stdout",
     "output_type": "stream",
     "text": [
      "Epoch 2/50, Train Loss: 0.0707, Valid Loss: 0.0628, lr: [0.014857959404769736]|0.014857959404769736\n"
     ]
    },
    {
     "name": "stderr",
     "output_type": "stream",
     "text": [
      "Epoch 3/50: 100%|██████████| 14/14 [00:08<00:00,  1.73it/s, Batch=13/14, Batch loss=0.06055]\n",
      "                                                         \r"
     ]
    },
    {
     "name": "stdout",
     "output_type": "stream",
     "text": [
      "Epoch 3/50, Train Loss: 0.0585, Valid Loss: 0.0635, lr: [0.014681867355918497]|0.014681867355918497\n"
     ]
    },
    {
     "name": "stderr",
     "output_type": "stream",
     "text": [
      "Epoch 4/50: 100%|██████████| 14/14 [00:09<00:00,  1.47it/s, Batch=13/14, Batch loss=0.04847]\n",
      "                                                         \r"
     ]
    },
    {
     "name": "stdout",
     "output_type": "stream",
     "text": [
      "Epoch 4/50, Train Loss: 0.0726, Valid Loss: 0.0522, lr: [0.014438045474676904]|0.014438045474676904\n"
     ]
    },
    {
     "name": "stderr",
     "output_type": "stream",
     "text": [
      "Epoch 5/50: 100%|██████████| 14/14 [00:08<00:00,  1.61it/s, Batch=13/14, Batch loss=0.04278]\n",
      "                                                         \r"
     ]
    },
    {
     "name": "stdout",
     "output_type": "stream",
     "text": [
      "Epoch 5/50, Train Loss: 0.0492, Valid Loss: 0.0445, lr: [0.014129165124598851]|0.014129165124598851\n"
     ]
    },
    {
     "name": "stderr",
     "output_type": "stream",
     "text": [
      "Epoch 6/50: 100%|██████████| 14/14 [00:07<00:00,  1.99it/s, Batch=13/14, Batch loss=0.04475]\n",
      "                                                         \r"
     ]
    },
    {
     "name": "stdout",
     "output_type": "stream",
     "text": [
      "Epoch 6/50, Train Loss: 0.0471, Valid Loss: 0.0521, lr: [0.013758610463437158]|0.013758610463437158\n"
     ]
    },
    {
     "name": "stderr",
     "output_type": "stream",
     "text": [
      "Epoch 7/50: 100%|██████████| 14/14 [00:06<00:00,  2.09it/s, Batch=13/14, Batch loss=0.04198]\n",
      "                                                         \r"
     ]
    },
    {
     "name": "stdout",
     "output_type": "stream",
     "text": [
      "Epoch 7/50, Train Loss: 0.0446, Valid Loss: 0.0456, lr: [0.013330441365603062]|0.013330441365603062\n"
     ]
    },
    {
     "name": "stderr",
     "output_type": "stream",
     "text": [
      "Epoch 8/50: 100%|██████████| 14/14 [00:08<00:00,  1.56it/s, Batch=13/14, Batch loss=0.03971]\n",
      "                                                         \r"
     ]
    },
    {
     "name": "stdout",
     "output_type": "stream",
     "text": [
      "Epoch 8/50, Train Loss: 0.0435, Valid Loss: 0.0427, lr: [0.012849348941332578]|0.012849348941332578\n"
     ]
    },
    {
     "name": "stderr",
     "output_type": "stream",
     "text": [
      "Epoch 9/50: 100%|██████████| 14/14 [00:07<00:00,  1.87it/s, Batch=13/14, Batch loss=0.03981]\n",
      "                                                         \r"
     ]
    },
    {
     "name": "stdout",
     "output_type": "stream",
     "text": [
      "Epoch 9/50, Train Loss: 0.0420, Valid Loss: 0.0425, lr: [0.012320604139901074]|0.012320604139901074\n"
     ]
    },
    {
     "name": "stderr",
     "output_type": "stream",
     "text": [
      "Epoch 10/50: 100%|██████████| 14/14 [00:06<00:00,  2.12it/s, Batch=13/14, Batch loss=0.03920]\n",
      "                                                         \r"
     ]
    },
    {
     "name": "stdout",
     "output_type": "stream",
     "text": [
      "Epoch 10/50, Train Loss: 0.0393, Valid Loss: 0.0435, lr: [0.011749999999999998]|0.011749999999999998\n"
     ]
    },
    {
     "name": "stderr",
     "output_type": "stream",
     "text": [
      "Epoch 11/50: 100%|██████████| 14/14 [00:07<00:00,  1.92it/s, Batch=13/14, Batch loss=0.03754]\n",
      "                                                         \r"
     ]
    },
    {
     "name": "stdout",
     "output_type": "stream",
     "text": [
      "Epoch 11/50, Train Loss: 0.0397, Valid Loss: 0.0399, lr: [0.011143788179992701]|0.011143788179992701\n"
     ]
    },
    {
     "name": "stderr",
     "output_type": "stream",
     "text": [
      "Epoch 12/50: 100%|██████████| 14/14 [00:06<00:00,  2.05it/s, Batch=13/14, Batch loss=0.04176]\n",
      "                                                         \r"
     ]
    },
    {
     "name": "stdout",
     "output_type": "stream",
     "text": [
      "Epoch 12/50, Train Loss: 0.0389, Valid Loss: 0.0421, lr: [0.010508610463437158]|0.010508610463437158\n"
     ]
    },
    {
     "name": "stderr",
     "output_type": "stream",
     "text": [
      "Epoch 13/50: 100%|██████████| 14/14 [00:07<00:00,  1.84it/s, Batch=13/14, Batch loss=0.03585]\n",
      "                                                         \r"
     ]
    },
    {
     "name": "stdout",
     "output_type": "stream",
     "text": [
      "Epoch 13/50, Train Loss: 0.0368, Valid Loss: 0.0374, lr: [0.009851425990315434]|0.009851425990315434\n"
     ]
    },
    {
     "name": "stderr",
     "output_type": "stream",
     "text": [
      "Epoch 14/50: 100%|██████████| 14/14 [00:06<00:00,  2.18it/s, Batch=13/14, Batch loss=0.03529]\n",
      "                                                         \r"
     ]
    },
    {
     "name": "stdout",
     "output_type": "stream",
     "text": [
      "Epoch 14/50, Train Loss: 0.0358, Valid Loss: 0.0363, lr: [0.009179435011239748]|0.009179435011239748\n"
     ]
    },
    {
     "name": "stderr",
     "output_type": "stream",
     "text": [
      "Epoch 15/50: 100%|██████████| 14/14 [00:07<00:00,  1.98it/s, Batch=13/14, Batch loss=0.03681]\n",
      "                                                         \r"
     ]
    },
    {
     "name": "stdout",
     "output_type": "stream",
     "text": [
      "Epoch 15/50, Train Loss: 0.0357, Valid Loss: 0.0372, lr: [0.0085]|0.0085\n"
     ]
    },
    {
     "name": "stderr",
     "output_type": "stream",
     "text": [
      "Epoch 16/50: 100%|██████████| 14/14 [00:10<00:00,  1.33it/s, Batch=13/14, Batch loss=0.03407]\n",
      "                                                         \r"
     ]
    },
    {
     "name": "stdout",
     "output_type": "stream",
     "text": [
      "Epoch 16/50, Train Loss: 0.0365, Valid Loss: 0.0345, lr: [0.007820564988760253]|0.007820564988760253\n"
     ]
    },
    {
     "name": "stderr",
     "output_type": "stream",
     "text": [
      "Epoch 17/50: 100%|██████████| 14/14 [00:12<00:00,  1.11it/s, Batch=13/14, Batch loss=0.03323]\n",
      "                                                         \r"
     ]
    },
    {
     "name": "stdout",
     "output_type": "stream",
     "text": [
      "Epoch 17/50, Train Loss: 0.0341, Valid Loss: 0.0337, lr: [0.007148574009684563]|0.007148574009684563\n"
     ]
    },
    {
     "name": "stderr",
     "output_type": "stream",
     "text": [
      "Epoch 18/50: 100%|██████████| 14/14 [00:09<00:00,  1.44it/s, Batch=13/14, Batch loss=0.03269]\n",
      "                                                         \r"
     ]
    },
    {
     "name": "stdout",
     "output_type": "stream",
     "text": [
      "Epoch 18/50, Train Loss: 0.0335, Valid Loss: 0.0332, lr: [0.006491389536562841]|0.006491389536562841\n"
     ]
    },
    {
     "name": "stderr",
     "output_type": "stream",
     "text": [
      "Epoch 19/50: 100%|██████████| 14/14 [00:08<00:00,  1.59it/s, Batch=13/14, Batch loss=0.03205]\n",
      "                                                         \r"
     ]
    },
    {
     "name": "stdout",
     "output_type": "stream",
     "text": [
      "Epoch 19/50, Train Loss: 0.0324, Valid Loss: 0.0328, lr: [0.005856211820007298]|0.005856211820007298\n"
     ]
    },
    {
     "name": "stderr",
     "output_type": "stream",
     "text": [
      "Epoch 20/50: 100%|██████████| 14/14 [00:10<00:00,  1.36it/s, Batch=13/14, Batch loss=0.03166]\n",
      "                                                         \r"
     ]
    },
    {
     "name": "stdout",
     "output_type": "stream",
     "text": [
      "Epoch 20/50, Train Loss: 0.0319, Valid Loss: 0.0322, lr: [0.0052499999999999995]|0.0052499999999999995\n"
     ]
    },
    {
     "name": "stderr",
     "output_type": "stream",
     "text": [
      "Epoch 21/50: 100%|██████████| 14/14 [00:11<00:00,  1.24it/s, Batch=13/14, Batch loss=0.03091]\n",
      "                                                         \r"
     ]
    },
    {
     "name": "stdout",
     "output_type": "stream",
     "text": [
      "Epoch 21/50, Train Loss: 0.0314, Valid Loss: 0.0314, lr: [0.004679395860098924]|0.004679395860098924\n"
     ]
    },
    {
     "name": "stderr",
     "output_type": "stream",
     "text": [
      "Epoch 22/50: 100%|██████████| 14/14 [00:09<00:00,  1.54it/s, Batch=13/14, Batch loss=0.03065]\n",
      "                                                         \r"
     ]
    },
    {
     "name": "stdout",
     "output_type": "stream",
     "text": [
      "Epoch 22/50, Train Loss: 0.0309, Valid Loss: 0.0310, lr: [0.0041506510586674225]|0.0041506510586674225\n"
     ]
    },
    {
     "name": "stderr",
     "output_type": "stream",
     "text": [
      "Epoch 23/50: 100%|██████████| 14/14 [00:07<00:00,  1.80it/s, Batch=13/14, Batch loss=0.03034]\n",
      "                                                         \r"
     ]
    },
    {
     "name": "stdout",
     "output_type": "stream",
     "text": [
      "Epoch 23/50, Train Loss: 0.0305, Valid Loss: 0.0307, lr: [0.003669558634396938]|0.003669558634396938\n"
     ]
    },
    {
     "name": "stderr",
     "output_type": "stream",
     "text": [
      "Epoch 24/50: 100%|██████████| 14/14 [00:10<00:00,  1.36it/s, Batch=13/14, Batch loss=0.02995]\n",
      "                                                         \r"
     ]
    },
    {
     "name": "stdout",
     "output_type": "stream",
     "text": [
      "Epoch 24/50, Train Loss: 0.0302, Valid Loss: 0.0303, lr: [0.003241389536562842]|0.003241389536562842\n"
     ]
    },
    {
     "name": "stderr",
     "output_type": "stream",
     "text": [
      "Epoch 25/50: 100%|██████████| 14/14 [00:10<00:00,  1.39it/s, Batch=13/14, Batch loss=0.02973]\n",
      "                                                         \r"
     ]
    },
    {
     "name": "stdout",
     "output_type": "stream",
     "text": [
      "Epoch 25/50, Train Loss: 0.0300, Valid Loss: 0.0301, lr: [0.0028708348754011483]|0.0028708348754011483\n"
     ]
    },
    {
     "name": "stderr",
     "output_type": "stream",
     "text": [
      "Epoch 26/50: 100%|██████████| 14/14 [00:09<00:00,  1.42it/s, Batch=13/14, Batch loss=0.02944]\n",
      "                                                         \r"
     ]
    },
    {
     "name": "stdout",
     "output_type": "stream",
     "text": [
      "Epoch 26/50, Train Loss: 0.0298, Valid Loss: 0.0298, lr: [0.0025619545253230936]|0.0025619545253230936\n"
     ]
    },
    {
     "name": "stderr",
     "output_type": "stream",
     "text": [
      "Epoch 27/50: 100%|██████████| 14/14 [00:08<00:00,  1.63it/s, Batch=13/14, Batch loss=0.02926]\n",
      "                                                         \r"
     ]
    },
    {
     "name": "stdout",
     "output_type": "stream",
     "text": [
      "Epoch 27/50, Train Loss: 0.0296, Valid Loss: 0.0296, lr: [0.002318132644081502]|0.002318132644081502\n"
     ]
    },
    {
     "name": "stderr",
     "output_type": "stream",
     "text": [
      "Epoch 28/50: 100%|██████████| 14/14 [00:08<00:00,  1.63it/s, Batch=13/14, Batch loss=0.02907]\n",
      "                                                         \r"
     ]
    },
    {
     "name": "stdout",
     "output_type": "stream",
     "text": [
      "Epoch 28/50, Train Loss: 0.0294, Valid Loss: 0.0294, lr: [0.002142040595230263]|0.002142040595230263\n"
     ]
    },
    {
     "name": "stderr",
     "output_type": "stream",
     "text": [
      "Epoch 29/50: 100%|██████████| 14/14 [00:08<00:00,  1.68it/s, Batch=13/14, Batch loss=0.02887]\n",
      "                                                         \r"
     ]
    },
    {
     "name": "stdout",
     "output_type": "stream",
     "text": [
      "Epoch 29/50, Train Loss: 0.0292, Valid Loss: 0.0292, lr: [0.002035607680106223]|0.002035607680106223\n"
     ]
    },
    {
     "name": "stderr",
     "output_type": "stream",
     "text": [
      "Epoch 30/50: 100%|██████████| 14/14 [00:10<00:00,  1.30it/s, Batch=13/14, Batch loss=0.02871]\n",
      "                                                         \r"
     ]
    },
    {
     "name": "stdout",
     "output_type": "stream",
     "text": [
      "Epoch 30/50, Train Loss: 0.0290, Valid Loss: 0.0290, lr: [0.002]|0.002\n"
     ]
    },
    {
     "name": "stderr",
     "output_type": "stream",
     "text": [
      "Epoch 31/50: 100%|██████████| 14/14 [00:09<00:00,  1.56it/s, Batch=13/14, Batch loss=0.02852]\n",
      "                                                         \r"
     ]
    },
    {
     "name": "stdout",
     "output_type": "stream",
     "text": [
      "Epoch 31/50, Train Loss: 0.0288, Valid Loss: 0.0288, lr: [0.002]|0.002\n"
     ]
    },
    {
     "name": "stderr",
     "output_type": "stream",
     "text": [
      "Epoch 32/50: 100%|██████████| 14/14 [00:12<00:00,  1.13it/s, Batch=13/14, Batch loss=0.02834]\n",
      "                                                         \r"
     ]
    },
    {
     "name": "stdout",
     "output_type": "stream",
     "text": [
      "Epoch 32/50, Train Loss: 0.0286, Valid Loss: 0.0287, lr: [0.002]|0.002\n"
     ]
    },
    {
     "name": "stderr",
     "output_type": "stream",
     "text": [
      "Epoch 33/50: 100%|██████████| 14/14 [00:10<00:00,  1.38it/s, Batch=13/14, Batch loss=0.02830]\n",
      "                                                         \r"
     ]
    },
    {
     "name": "stdout",
     "output_type": "stream",
     "text": [
      "Epoch 33/50, Train Loss: 0.0287, Valid Loss: 0.0286, lr: [0.002]|0.002\n"
     ]
    },
    {
     "name": "stderr",
     "output_type": "stream",
     "text": [
      "Epoch 34/50: 100%|██████████| 14/14 [00:09<00:00,  1.47it/s, Batch=13/14, Batch loss=0.02781]\n",
      "                                                         \r"
     ]
    },
    {
     "name": "stdout",
     "output_type": "stream",
     "text": [
      "Epoch 34/50, Train Loss: 0.0282, Valid Loss: 0.0281, lr: [0.002]|0.002\n"
     ]
    },
    {
     "name": "stderr",
     "output_type": "stream",
     "text": [
      "Epoch 35/50: 100%|██████████| 14/14 [00:08<00:00,  1.66it/s, Batch=13/14, Batch loss=0.02769]\n",
      "                                                         \r"
     ]
    },
    {
     "name": "stdout",
     "output_type": "stream",
     "text": [
      "Epoch 35/50, Train Loss: 0.0282, Valid Loss: 0.0280, lr: [0.002]|0.002\n"
     ]
    },
    {
     "name": "stderr",
     "output_type": "stream",
     "text": [
      "Epoch 36/50: 100%|██████████| 14/14 [00:09<00:00,  1.43it/s, Batch=13/14, Batch loss=0.02778]\n",
      "                                                         \r"
     ]
    },
    {
     "name": "stdout",
     "output_type": "stream",
     "text": [
      "Epoch 36/50, Train Loss: 0.0278, Valid Loss: 0.0284, lr: [0.002]|0.002\n"
     ]
    },
    {
     "name": "stderr",
     "output_type": "stream",
     "text": [
      "Epoch 37/50: 100%|██████████| 14/14 [00:13<00:00,  1.01it/s, Batch=13/14, Batch loss=0.02702]\n",
      "                                                         \r"
     ]
    },
    {
     "name": "stdout",
     "output_type": "stream",
     "text": [
      "Epoch 37/50, Train Loss: 0.0275, Valid Loss: 0.0275, lr: [0.002]|0.002\n"
     ]
    },
    {
     "name": "stderr",
     "output_type": "stream",
     "text": [
      "Epoch 38/50: 100%|██████████| 14/14 [00:15<00:00,  1.07s/it, Batch=13/14, Batch loss=0.02678]\n",
      "                                                         \r"
     ]
    },
    {
     "name": "stdout",
     "output_type": "stream",
     "text": [
      "Epoch 38/50, Train Loss: 0.0274, Valid Loss: 0.0272, lr: [0.002]|0.002\n"
     ]
    },
    {
     "name": "stderr",
     "output_type": "stream",
     "text": [
      "Epoch 39/50: 100%|██████████| 14/14 [00:11<00:00,  1.27it/s, Batch=13/14, Batch loss=0.02655]\n",
      "                                                         \r"
     ]
    },
    {
     "name": "stdout",
     "output_type": "stream",
     "text": [
      "Epoch 39/50, Train Loss: 0.0270, Valid Loss: 0.0270, lr: [0.002]|0.002\n"
     ]
    },
    {
     "name": "stderr",
     "output_type": "stream",
     "text": [
      "Epoch 40/50: 100%|██████████| 14/14 [00:10<00:00,  1.37it/s, Batch=13/14, Batch loss=0.02630]\n",
      "                                                         \r"
     ]
    },
    {
     "name": "stdout",
     "output_type": "stream",
     "text": [
      "Epoch 40/50, Train Loss: 0.0267, Valid Loss: 0.0268, lr: [0.002]|0.002\n"
     ]
    },
    {
     "name": "stderr",
     "output_type": "stream",
     "text": [
      "Epoch 41/50: 100%|██████████| 14/14 [00:08<00:00,  1.65it/s, Batch=13/14, Batch loss=0.02619]\n",
      "                                                         \r"
     ]
    },
    {
     "name": "stdout",
     "output_type": "stream",
     "text": [
      "Epoch 41/50, Train Loss: 0.0265, Valid Loss: 0.0267, lr: [0.002]|0.002\n"
     ]
    },
    {
     "name": "stderr",
     "output_type": "stream",
     "text": [
      "Epoch 42/50: 100%|██████████| 14/14 [00:07<00:00,  1.86it/s, Batch=13/14, Batch loss=0.02606]\n",
      "                                                         \r"
     ]
    },
    {
     "name": "stdout",
     "output_type": "stream",
     "text": [
      "Epoch 42/50, Train Loss: 0.0263, Valid Loss: 0.0265, lr: [0.002]|0.002\n"
     ]
    },
    {
     "name": "stderr",
     "output_type": "stream",
     "text": [
      "Epoch 43/50: 100%|██████████| 14/14 [00:10<00:00,  1.32it/s, Batch=13/14, Batch loss=0.02646]\n",
      "                                                         \r"
     ]
    },
    {
     "name": "stdout",
     "output_type": "stream",
     "text": [
      "Epoch 43/50, Train Loss: 0.0264, Valid Loss: 0.0268, lr: [0.002]|0.002\n"
     ]
    },
    {
     "name": "stderr",
     "output_type": "stream",
     "text": [
      "Epoch 44/50: 100%|██████████| 14/14 [00:08<00:00,  1.62it/s, Batch=13/14, Batch loss=0.02553]\n",
      "                                                         \r"
     ]
    },
    {
     "name": "stdout",
     "output_type": "stream",
     "text": [
      "Epoch 44/50, Train Loss: 0.0262, Valid Loss: 0.0258, lr: [0.002]|0.002\n"
     ]
    },
    {
     "name": "stderr",
     "output_type": "stream",
     "text": [
      "Epoch 45/50: 100%|██████████| 14/14 [00:07<00:00,  1.82it/s, Batch=13/14, Batch loss=0.02574]\n",
      "                                                         \r"
     ]
    },
    {
     "name": "stdout",
     "output_type": "stream",
     "text": [
      "Epoch 45/50, Train Loss: 0.0258, Valid Loss: 0.0260, lr: [0.002]|0.002\n"
     ]
    },
    {
     "name": "stderr",
     "output_type": "stream",
     "text": [
      "Epoch 46/50: 100%|██████████| 14/14 [00:08<00:00,  1.68it/s, Batch=13/14, Batch loss=0.02537]\n",
      "                                                         \r"
     ]
    },
    {
     "name": "stdout",
     "output_type": "stream",
     "text": [
      "Epoch 46/50, Train Loss: 0.0258, Valid Loss: 0.0257, lr: [0.002]|0.002\n"
     ]
    },
    {
     "name": "stderr",
     "output_type": "stream",
     "text": [
      "Epoch 47/50: 100%|██████████| 14/14 [00:07<00:00,  1.79it/s, Batch=13/14, Batch loss=0.02539]\n",
      "                                                         \r"
     ]
    },
    {
     "name": "stdout",
     "output_type": "stream",
     "text": [
      "Epoch 47/50, Train Loss: 0.0256, Valid Loss: 0.0257, lr: [0.002]|0.002\n"
     ]
    },
    {
     "name": "stderr",
     "output_type": "stream",
     "text": [
      "Epoch 48/50: 100%|██████████| 14/14 [00:10<00:00,  1.36it/s, Batch=13/14, Batch loss=0.02550]\n",
      "                                                         \r"
     ]
    },
    {
     "name": "stdout",
     "output_type": "stream",
     "text": [
      "Epoch 48/50, Train Loss: 0.0258, Valid Loss: 0.0259, lr: [0.002]|0.002\n"
     ]
    },
    {
     "name": "stderr",
     "output_type": "stream",
     "text": [
      "Epoch 49/50: 100%|██████████| 14/14 [00:07<00:00,  1.89it/s, Batch=13/14, Batch loss=0.02538]\n",
      "                                                         \r"
     ]
    },
    {
     "name": "stdout",
     "output_type": "stream",
     "text": [
      "Epoch 49/50, Train Loss: 0.0257, Valid Loss: 0.0258, lr: [0.002]|0.002\n"
     ]
    },
    {
     "name": "stderr",
     "output_type": "stream",
     "text": [
      "Epoch 50/50: 100%|██████████| 14/14 [00:09<00:00,  1.41it/s, Batch=13/14, Batch loss=0.02543]\n",
      "                                                         "
     ]
    },
    {
     "name": "stdout",
     "output_type": "stream",
     "text": [
      "Epoch 50/50, Train Loss: 0.0257, Valid Loss: 0.0258, lr: [0.002]|0.002\n"
     ]
    },
    {
     "name": "stderr",
     "output_type": "stream",
     "text": [
      "\r"
     ]
    }
   ],
   "source": [
    "# Train data stats\n",
    "num_batches = len(train_loader)\n",
    "total_data = len(train_loader.dataset)\n",
    "# 5 * 32/60000 == 5 / 1875\n",
    "\n",
    "# Turn on train mode\n",
    "stacked_ae.train()\n",
    "# train loss and val loss values\n",
    "train_loss_per_epoch = []\n",
    "valid_loss_per_epoch = []\n",
    "lr_list = []\n",
    "\n",
    "for epoch in range(num_epochs):\n",
    "    #============================TRAIN========================================\n",
    "    train_loss = 0.0\n",
    "    stacked_ae.train()\n",
    "    train_bar = tqdm(train_loader, desc=f'Epoch {epoch+1}/{num_epochs}', leave=True)\n",
    "    for batch, (imgs, y) in enumerate(train_bar):\n",
    "        imgs = imgs.to(device)\n",
    "        \n",
    "        # Zero grad\n",
    "        optimizer.zero_grad()\n",
    "        \n",
    "        # Forward Pass\n",
    "        y_pred = stacked_ae(imgs)\n",
    "        \n",
    "        # Calculate loss\n",
    "        loss = criterion(y_pred, imgs)\n",
    "        \n",
    "        # Optimization\n",
    "        loss.backward()\n",
    "        optimizer.step()\n",
    "        \n",
    "        # logging\n",
    "        batch_loss = loss.item()\n",
    "        train_loss += batch_loss\n",
    "        \n",
    "        #update progress (logging)\n",
    "        train_bar.set_postfix({'Batch': f'{batch}/{num_batches}', 'Batch loss': f\"{batch_loss:.5f}\"})\n",
    "        \n",
    "    # Calculate average loss over epoch (train_set)\n",
    "    avg_train_loss = train_loss / num_batches\n",
    "    train_loss_per_epoch.append(avg_train_loss)\n",
    "    \n",
    "    #=============================EVAL=======================================\n",
    "    stacked_ae.eval()\n",
    "    val_loss = 0.0\n",
    "    with torch.no_grad():\n",
    "        valid_bar = tqdm(valid_loader, desc='Validation', leave = False)\n",
    "        for (imgs, y) in valid_bar:\n",
    "            imgs = imgs.to(device)\n",
    "            # Forward Pass\n",
    "            y_pred = stacked_ae(imgs)\n",
    "            \n",
    "            # Calculate loss\n",
    "            loss = criterion(y_pred, imgs)\n",
    "            \n",
    "            #logging\n",
    "            val_loss += loss.item() * imgs.size(0)\n",
    "\n",
    "    # Calculate average loss for val dataset\n",
    "    avg_val_loss = val_loss / len(valid_loader.dataset) # Explained: # 5 * 32/60000 == 5 / 1875\n",
    "    valid_loss_per_epoch.append(avg_val_loss)\n",
    "    \n",
    "    # Step the scheduler\n",
    "    if epoch < T_max:\n",
    "        scheduler.step()\n",
    "    else:\n",
    "        pass\n",
    "    \n",
    "    # lr\n",
    "    curr_lr = scheduler.get_last_lr()[0]\n",
    "    lr_list.append(curr_lr)\n",
    "    # Print epoch status\n",
    "    print(f\"Epoch {epoch+1}/{num_epochs}, Train Loss: {avg_train_loss:.4f}, Valid Loss: {avg_val_loss:.4f}, lr: {scheduler.get_last_lr()}|{optimizer.param_groups[0]['lr']}\")\n",
    "    \n"
   ]
  },
  {
   "cell_type": "code",
   "execution_count": 8,
   "metadata": {},
   "outputs": [
    {
     "data": {
      "image/png": "[encoded data removed]",
      "text/plain": [
       "<Figure size 640x480 with 1 Axes>"
      ]
     },
     "metadata": {},
     "output_type": "display_data"
    }
   ],
   "source": [
    "plt.plot(range(1, num_epochs + 1), lr_list, '-o')\n",
    "plt.xlabel('Epoch')\n",
    "plt.ylabel('Learning Rate')\n",
    "plt.title('Cosine Annealing Learning Rate Schedule')\n",
    "plt.show()"
   ]
  },
  {
   "cell_type": "code",
   "execution_count": 9,
   "metadata": {},
   "outputs": [
    {
     "data": {
      "image/png": "[encoded data removed]",
      "text/plain": [
       "<Figure size 1000x600 with 1 Axes>"
      ]
     },
     "metadata": {},
     "output_type": "display_data"
    }
   ],
   "source": [
    "plt.figure(figsize=(10,6))\n",
    "plt.plot(train_loss_per_epoch, label='Train Loss')\n",
    "plt.plot(valid_loss_per_epoch, label='Validation Loss')\n",
    "plt.xlabel('Epoch')\n",
    "plt.ylabel('MSE Loss')\n",
    "plt.title('Training and Validation Loss over Epochs')\n",
    "plt.legend()\n",
    "plt.show()"
   ]
  },
  {
   "cell_type": "code",
   "execution_count": 10,
   "metadata": {},
   "outputs": [
    {
     "name": "stdout",
     "output_type": "stream",
     "text": [
      "\n",
      "Model training complete and saved as 'stacked_autoencoder.pth'.\n"
     ]
    }
   ],
   "source": [
    "# Save the trained model\n",
    "torch.save(stacked_ae.state_dict(), 'stacked_autoencoder.pth')\n",
    "print(\"\\nModel training complete and saved as 'stacked_autoencoder.pth'.\")"
   ]
  },
  {
   "cell_type": "markdown",
   "metadata": {},
   "source": [
    "## Visualizing the Reconstructions"
   ]
  },
  {
   "cell_type": "code",
   "execution_count": 11,
   "metadata": {},
   "outputs": [
    {
     "name": "stdout",
     "output_type": "stream",
     "text": [
      "torch.Size([5, 1, 28, 28])\n",
      "(5, 1, 28, 28)\n",
      "(4096, 1, 28, 28)\n"
     ]
    },
    {
     "data": {
      "image/png": "[encoded data removed]",
      "text/plain": [
       "<Figure size 1500x600 with 10 Axes>"
      ]
     },
     "metadata": {},
     "output_type": "display_data"
    }
   ],
   "source": [
    "def plot_reconstructions(model, data_loader, n_images=5):\n",
    "    test_images, _ = next(iter(data_loader))\n",
    "    with torch.no_grad():\n",
    "        reconstructions = model(test_images[:n_images].to(device))\n",
    "    print(reconstructions.shape)\n",
    "    # Move the images back to CPU for visualization\n",
    "    test_images = test_images.cpu().numpy()\n",
    "    reconstructed_images = reconstructions.cpu().numpy()\n",
    "    print(reconstructed_images.shape)\n",
    "    print(test_images.shape)\n",
    "    \n",
    "    fig, axes = plt.subplots(nrows=2, ncols=n_images, figsize=(15, 6))\n",
    "    for i in range(n_images):\n",
    "        # Orignal images\n",
    "        axes[0, i].imshow(test_images[i].squeeze(), cmap='binary')\n",
    "        axes[0, i].set_title(\"Original\")\n",
    "        axes[0, i].axis('off')\n",
    "\n",
    "        # Generated images\n",
    "        axes[1, i].imshow(reconstructed_images[i].squeeze(), cmap='binary')\n",
    "        axes[1, i].set_title(\"Reconstructed\")\n",
    "        axes[1, i].axis('off')\n",
    "    plt.show()\n",
    "\n",
    "plot_reconstructions(stacked_ae, valid_loader, n_images=5)"
   ]
  },
  {
   "cell_type": "code",
   "execution_count": null,
   "metadata": {},
   "outputs": [],
   "source": []
  }
 ],
 "metadata": {
  "kernelspec": {
   "display_name": "ml_env",
   "language": "python",
   "name": "python3"
  },
  "language_info": {
   "codemirror_mode": {
    "name": "ipython",
    "version": 3
   },
   "file_extension": ".py",
   "mimetype": "text/x-python",
   "name": "python",
   "nbconvert_exporter": "python",
   "pygments_lexer": "ipython3",
   "version": "3.9.20"
  }
 },
 "nbformat": 4,
 "nbformat_minor": 2
}
